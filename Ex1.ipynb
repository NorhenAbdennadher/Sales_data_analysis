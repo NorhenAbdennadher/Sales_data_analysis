{
  "nbformat": 4,
  "nbformat_minor": 0,
  "metadata": {
    "colab": {
      "provenance": []
    },
    "kernelspec": {
      "name": "python3",
      "display_name": "Python 3"
    },
    "language_info": {
      "name": "python"
    }
  },
  "cells": [
    {
      "cell_type": "markdown",
      "source": [
        "Read the dataset"
      ],
      "metadata": {
        "id": "S7U_2WmbBKrF"
      }
    },
    {
      "cell_type": "code",
      "source": [
        "cd \"/content/drive/MyDrive/data\""
      ],
      "metadata": {
        "colab": {
          "base_uri": "https://localhost:8080/"
        },
        "id": "aGPuZyPOD4Cc",
        "outputId": "5deafc10-c8b7-4533-8551-c56f04fc8f5b"
      },
      "execution_count": null,
      "outputs": [
        {
          "output_type": "stream",
          "name": "stdout",
          "text": [
            "/content/drive/MyDrive/data\n"
          ]
        }
      ]
    },
    {
      "cell_type": "code",
      "source": [
        "ls"
      ],
      "metadata": {
        "colab": {
          "base_uri": "https://localhost:8080/"
        },
        "id": "U4suz2a9EnYD",
        "outputId": "08787717-0cba-44df-cc6b-63702d28cd70"
      },
      "execution_count": null,
      "outputs": [
        {
          "output_type": "stream",
          "name": "stdout",
          "text": [
            "chinook.db  sakila.db  sales_data.csv\n"
          ]
        }
      ]
    },
    {
      "cell_type": "markdown",
      "source": [
        "Make the import of the needed libraries"
      ],
      "metadata": {
        "id": "6t_CK1yZEtlu"
      }
    },
    {
      "cell_type": "code",
      "source": [
        "import numpy as np\n",
        "import matplotlib.pyplot as plt\n",
        "import pandas as pd"
      ],
      "metadata": {
        "id": "B3GNkB8HEoDO"
      },
      "execution_count": null,
      "outputs": []
    },
    {
      "cell_type": "code",
      "source": [
        "sales= pd.read_csv('sales_data.csv', parse_dates=['Date'])"
      ],
      "metadata": {
        "id": "QAEpZu1EKOCX"
      },
      "execution_count": null,
      "outputs": []
    },
    {
      "cell_type": "code",
      "source": [
        "sales"
      ],
      "metadata": {
        "colab": {
          "base_uri": "https://localhost:8080/",
          "height": 748
        },
        "id": "zNn_PyNVKU7X",
        "outputId": "0e021b35-c50a-438b-a527-76e41987b1e0"
      },
      "execution_count": null,
      "outputs": [
        {
          "output_type": "execute_result",
          "data": {
            "text/plain": [
              "             Date  Day     Month  Year  Customer_Age       Age_Group  \\\n",
              "0      2013-11-26   26  November  2013            19     Youth (<25)   \n",
              "1      2015-11-26   26  November  2015            19     Youth (<25)   \n",
              "2      2014-03-23   23     March  2014            49  Adults (35-64)   \n",
              "3      2016-03-23   23     March  2016            49  Adults (35-64)   \n",
              "4      2014-05-15   15       May  2014            47  Adults (35-64)   \n",
              "...           ...  ...       ...   ...           ...             ...   \n",
              "113031 2016-04-12   12     April  2016            41  Adults (35-64)   \n",
              "113032 2014-04-02    2     April  2014            18     Youth (<25)   \n",
              "113033 2016-04-02    2     April  2016            18     Youth (<25)   \n",
              "113034 2014-03-04    4     March  2014            37  Adults (35-64)   \n",
              "113035 2016-03-04    4     March  2016            37  Adults (35-64)   \n",
              "\n",
              "       Customer_Gender         Country             State Product_Category  \\\n",
              "0                    M          Canada  British Columbia      Accessories   \n",
              "1                    M          Canada  British Columbia      Accessories   \n",
              "2                    M       Australia   New South Wales      Accessories   \n",
              "3                    M       Australia   New South Wales      Accessories   \n",
              "4                    F       Australia   New South Wales      Accessories   \n",
              "...                ...             ...               ...              ...   \n",
              "113031               M  United Kingdom           England         Clothing   \n",
              "113032               M       Australia        Queensland         Clothing   \n",
              "113033               M       Australia        Queensland         Clothing   \n",
              "113034               F          France     Seine (Paris)         Clothing   \n",
              "113035               F          France     Seine (Paris)         Clothing   \n",
              "\n",
              "       Sub_Category              Product  Order_Quantity  Unit_Cost  \\\n",
              "0        Bike Racks  Hitch Rack - 4-Bike               8         45   \n",
              "1        Bike Racks  Hitch Rack - 4-Bike               8         45   \n",
              "2        Bike Racks  Hitch Rack - 4-Bike              23         45   \n",
              "3        Bike Racks  Hitch Rack - 4-Bike              20         45   \n",
              "4        Bike Racks  Hitch Rack - 4-Bike               4         45   \n",
              "...             ...                  ...             ...        ...   \n",
              "113031        Vests      Classic Vest, S               3         24   \n",
              "113032        Vests      Classic Vest, M              22         24   \n",
              "113033        Vests      Classic Vest, M              22         24   \n",
              "113034        Vests      Classic Vest, L              24         24   \n",
              "113035        Vests      Classic Vest, L              23         24   \n",
              "\n",
              "        Unit_Price  Profit  Cost  Revenue  \n",
              "0              120     590   360      950  \n",
              "1              120     590   360      950  \n",
              "2              120    1366  1035     2401  \n",
              "3              120    1188   900     2088  \n",
              "4              120     238   180      418  \n",
              "...            ...     ...   ...      ...  \n",
              "113031          64     112    72      184  \n",
              "113032          64     655   528     1183  \n",
              "113033          64     655   528     1183  \n",
              "113034          64     684   576     1260  \n",
              "113035          64     655   552     1207  \n",
              "\n",
              "[113036 rows x 18 columns]"
            ],
            "text/html": [
              "\n",
              "  <div id=\"df-945ed18e-a51a-4fcc-ace3-a062559072cf\">\n",
              "    <div class=\"colab-df-container\">\n",
              "      <div>\n",
              "<style scoped>\n",
              "    .dataframe tbody tr th:only-of-type {\n",
              "        vertical-align: middle;\n",
              "    }\n",
              "\n",
              "    .dataframe tbody tr th {\n",
              "        vertical-align: top;\n",
              "    }\n",
              "\n",
              "    .dataframe thead th {\n",
              "        text-align: right;\n",
              "    }\n",
              "</style>\n",
              "<table border=\"1\" class=\"dataframe\">\n",
              "  <thead>\n",
              "    <tr style=\"text-align: right;\">\n",
              "      <th></th>\n",
              "      <th>Date</th>\n",
              "      <th>Day</th>\n",
              "      <th>Month</th>\n",
              "      <th>Year</th>\n",
              "      <th>Customer_Age</th>\n",
              "      <th>Age_Group</th>\n",
              "      <th>Customer_Gender</th>\n",
              "      <th>Country</th>\n",
              "      <th>State</th>\n",
              "      <th>Product_Category</th>\n",
              "      <th>Sub_Category</th>\n",
              "      <th>Product</th>\n",
              "      <th>Order_Quantity</th>\n",
              "      <th>Unit_Cost</th>\n",
              "      <th>Unit_Price</th>\n",
              "      <th>Profit</th>\n",
              "      <th>Cost</th>\n",
              "      <th>Revenue</th>\n",
              "    </tr>\n",
              "  </thead>\n",
              "  <tbody>\n",
              "    <tr>\n",
              "      <th>0</th>\n",
              "      <td>2013-11-26</td>\n",
              "      <td>26</td>\n",
              "      <td>November</td>\n",
              "      <td>2013</td>\n",
              "      <td>19</td>\n",
              "      <td>Youth (&lt;25)</td>\n",
              "      <td>M</td>\n",
              "      <td>Canada</td>\n",
              "      <td>British Columbia</td>\n",
              "      <td>Accessories</td>\n",
              "      <td>Bike Racks</td>\n",
              "      <td>Hitch Rack - 4-Bike</td>\n",
              "      <td>8</td>\n",
              "      <td>45</td>\n",
              "      <td>120</td>\n",
              "      <td>590</td>\n",
              "      <td>360</td>\n",
              "      <td>950</td>\n",
              "    </tr>\n",
              "    <tr>\n",
              "      <th>1</th>\n",
              "      <td>2015-11-26</td>\n",
              "      <td>26</td>\n",
              "      <td>November</td>\n",
              "      <td>2015</td>\n",
              "      <td>19</td>\n",
              "      <td>Youth (&lt;25)</td>\n",
              "      <td>M</td>\n",
              "      <td>Canada</td>\n",
              "      <td>British Columbia</td>\n",
              "      <td>Accessories</td>\n",
              "      <td>Bike Racks</td>\n",
              "      <td>Hitch Rack - 4-Bike</td>\n",
              "      <td>8</td>\n",
              "      <td>45</td>\n",
              "      <td>120</td>\n",
              "      <td>590</td>\n",
              "      <td>360</td>\n",
              "      <td>950</td>\n",
              "    </tr>\n",
              "    <tr>\n",
              "      <th>2</th>\n",
              "      <td>2014-03-23</td>\n",
              "      <td>23</td>\n",
              "      <td>March</td>\n",
              "      <td>2014</td>\n",
              "      <td>49</td>\n",
              "      <td>Adults (35-64)</td>\n",
              "      <td>M</td>\n",
              "      <td>Australia</td>\n",
              "      <td>New South Wales</td>\n",
              "      <td>Accessories</td>\n",
              "      <td>Bike Racks</td>\n",
              "      <td>Hitch Rack - 4-Bike</td>\n",
              "      <td>23</td>\n",
              "      <td>45</td>\n",
              "      <td>120</td>\n",
              "      <td>1366</td>\n",
              "      <td>1035</td>\n",
              "      <td>2401</td>\n",
              "    </tr>\n",
              "    <tr>\n",
              "      <th>3</th>\n",
              "      <td>2016-03-23</td>\n",
              "      <td>23</td>\n",
              "      <td>March</td>\n",
              "      <td>2016</td>\n",
              "      <td>49</td>\n",
              "      <td>Adults (35-64)</td>\n",
              "      <td>M</td>\n",
              "      <td>Australia</td>\n",
              "      <td>New South Wales</td>\n",
              "      <td>Accessories</td>\n",
              "      <td>Bike Racks</td>\n",
              "      <td>Hitch Rack - 4-Bike</td>\n",
              "      <td>20</td>\n",
              "      <td>45</td>\n",
              "      <td>120</td>\n",
              "      <td>1188</td>\n",
              "      <td>900</td>\n",
              "      <td>2088</td>\n",
              "    </tr>\n",
              "    <tr>\n",
              "      <th>4</th>\n",
              "      <td>2014-05-15</td>\n",
              "      <td>15</td>\n",
              "      <td>May</td>\n",
              "      <td>2014</td>\n",
              "      <td>47</td>\n",
              "      <td>Adults (35-64)</td>\n",
              "      <td>F</td>\n",
              "      <td>Australia</td>\n",
              "      <td>New South Wales</td>\n",
              "      <td>Accessories</td>\n",
              "      <td>Bike Racks</td>\n",
              "      <td>Hitch Rack - 4-Bike</td>\n",
              "      <td>4</td>\n",
              "      <td>45</td>\n",
              "      <td>120</td>\n",
              "      <td>238</td>\n",
              "      <td>180</td>\n",
              "      <td>418</td>\n",
              "    </tr>\n",
              "    <tr>\n",
              "      <th>...</th>\n",
              "      <td>...</td>\n",
              "      <td>...</td>\n",
              "      <td>...</td>\n",
              "      <td>...</td>\n",
              "      <td>...</td>\n",
              "      <td>...</td>\n",
              "      <td>...</td>\n",
              "      <td>...</td>\n",
              "      <td>...</td>\n",
              "      <td>...</td>\n",
              "      <td>...</td>\n",
              "      <td>...</td>\n",
              "      <td>...</td>\n",
              "      <td>...</td>\n",
              "      <td>...</td>\n",
              "      <td>...</td>\n",
              "      <td>...</td>\n",
              "      <td>...</td>\n",
              "    </tr>\n",
              "    <tr>\n",
              "      <th>113031</th>\n",
              "      <td>2016-04-12</td>\n",
              "      <td>12</td>\n",
              "      <td>April</td>\n",
              "      <td>2016</td>\n",
              "      <td>41</td>\n",
              "      <td>Adults (35-64)</td>\n",
              "      <td>M</td>\n",
              "      <td>United Kingdom</td>\n",
              "      <td>England</td>\n",
              "      <td>Clothing</td>\n",
              "      <td>Vests</td>\n",
              "      <td>Classic Vest, S</td>\n",
              "      <td>3</td>\n",
              "      <td>24</td>\n",
              "      <td>64</td>\n",
              "      <td>112</td>\n",
              "      <td>72</td>\n",
              "      <td>184</td>\n",
              "    </tr>\n",
              "    <tr>\n",
              "      <th>113032</th>\n",
              "      <td>2014-04-02</td>\n",
              "      <td>2</td>\n",
              "      <td>April</td>\n",
              "      <td>2014</td>\n",
              "      <td>18</td>\n",
              "      <td>Youth (&lt;25)</td>\n",
              "      <td>M</td>\n",
              "      <td>Australia</td>\n",
              "      <td>Queensland</td>\n",
              "      <td>Clothing</td>\n",
              "      <td>Vests</td>\n",
              "      <td>Classic Vest, M</td>\n",
              "      <td>22</td>\n",
              "      <td>24</td>\n",
              "      <td>64</td>\n",
              "      <td>655</td>\n",
              "      <td>528</td>\n",
              "      <td>1183</td>\n",
              "    </tr>\n",
              "    <tr>\n",
              "      <th>113033</th>\n",
              "      <td>2016-04-02</td>\n",
              "      <td>2</td>\n",
              "      <td>April</td>\n",
              "      <td>2016</td>\n",
              "      <td>18</td>\n",
              "      <td>Youth (&lt;25)</td>\n",
              "      <td>M</td>\n",
              "      <td>Australia</td>\n",
              "      <td>Queensland</td>\n",
              "      <td>Clothing</td>\n",
              "      <td>Vests</td>\n",
              "      <td>Classic Vest, M</td>\n",
              "      <td>22</td>\n",
              "      <td>24</td>\n",
              "      <td>64</td>\n",
              "      <td>655</td>\n",
              "      <td>528</td>\n",
              "      <td>1183</td>\n",
              "    </tr>\n",
              "    <tr>\n",
              "      <th>113034</th>\n",
              "      <td>2014-03-04</td>\n",
              "      <td>4</td>\n",
              "      <td>March</td>\n",
              "      <td>2014</td>\n",
              "      <td>37</td>\n",
              "      <td>Adults (35-64)</td>\n",
              "      <td>F</td>\n",
              "      <td>France</td>\n",
              "      <td>Seine (Paris)</td>\n",
              "      <td>Clothing</td>\n",
              "      <td>Vests</td>\n",
              "      <td>Classic Vest, L</td>\n",
              "      <td>24</td>\n",
              "      <td>24</td>\n",
              "      <td>64</td>\n",
              "      <td>684</td>\n",
              "      <td>576</td>\n",
              "      <td>1260</td>\n",
              "    </tr>\n",
              "    <tr>\n",
              "      <th>113035</th>\n",
              "      <td>2016-03-04</td>\n",
              "      <td>4</td>\n",
              "      <td>March</td>\n",
              "      <td>2016</td>\n",
              "      <td>37</td>\n",
              "      <td>Adults (35-64)</td>\n",
              "      <td>F</td>\n",
              "      <td>France</td>\n",
              "      <td>Seine (Paris)</td>\n",
              "      <td>Clothing</td>\n",
              "      <td>Vests</td>\n",
              "      <td>Classic Vest, L</td>\n",
              "      <td>23</td>\n",
              "      <td>24</td>\n",
              "      <td>64</td>\n",
              "      <td>655</td>\n",
              "      <td>552</td>\n",
              "      <td>1207</td>\n",
              "    </tr>\n",
              "  </tbody>\n",
              "</table>\n",
              "<p>113036 rows × 18 columns</p>\n",
              "</div>\n",
              "      <button class=\"colab-df-convert\" onclick=\"convertToInteractive('df-945ed18e-a51a-4fcc-ace3-a062559072cf')\"\n",
              "              title=\"Convert this dataframe to an interactive table.\"\n",
              "              style=\"display:none;\">\n",
              "        \n",
              "  <svg xmlns=\"http://www.w3.org/2000/svg\" height=\"24px\"viewBox=\"0 0 24 24\"\n",
              "       width=\"24px\">\n",
              "    <path d=\"M0 0h24v24H0V0z\" fill=\"none\"/>\n",
              "    <path d=\"M18.56 5.44l.94 2.06.94-2.06 2.06-.94-2.06-.94-.94-2.06-.94 2.06-2.06.94zm-11 1L8.5 8.5l.94-2.06 2.06-.94-2.06-.94L8.5 2.5l-.94 2.06-2.06.94zm10 10l.94 2.06.94-2.06 2.06-.94-2.06-.94-.94-2.06-.94 2.06-2.06.94z\"/><path d=\"M17.41 7.96l-1.37-1.37c-.4-.4-.92-.59-1.43-.59-.52 0-1.04.2-1.43.59L10.3 9.45l-7.72 7.72c-.78.78-.78 2.05 0 2.83L4 21.41c.39.39.9.59 1.41.59.51 0 1.02-.2 1.41-.59l7.78-7.78 2.81-2.81c.8-.78.8-2.07 0-2.86zM5.41 20L4 18.59l7.72-7.72 1.47 1.35L5.41 20z\"/>\n",
              "  </svg>\n",
              "      </button>\n",
              "      \n",
              "  <style>\n",
              "    .colab-df-container {\n",
              "      display:flex;\n",
              "      flex-wrap:wrap;\n",
              "      gap: 12px;\n",
              "    }\n",
              "\n",
              "    .colab-df-convert {\n",
              "      background-color: #E8F0FE;\n",
              "      border: none;\n",
              "      border-radius: 50%;\n",
              "      cursor: pointer;\n",
              "      display: none;\n",
              "      fill: #1967D2;\n",
              "      height: 32px;\n",
              "      padding: 0 0 0 0;\n",
              "      width: 32px;\n",
              "    }\n",
              "\n",
              "    .colab-df-convert:hover {\n",
              "      background-color: #E2EBFA;\n",
              "      box-shadow: 0px 1px 2px rgba(60, 64, 67, 0.3), 0px 1px 3px 1px rgba(60, 64, 67, 0.15);\n",
              "      fill: #174EA6;\n",
              "    }\n",
              "\n",
              "    [theme=dark] .colab-df-convert {\n",
              "      background-color: #3B4455;\n",
              "      fill: #D2E3FC;\n",
              "    }\n",
              "\n",
              "    [theme=dark] .colab-df-convert:hover {\n",
              "      background-color: #434B5C;\n",
              "      box-shadow: 0px 1px 3px 1px rgba(0, 0, 0, 0.15);\n",
              "      filter: drop-shadow(0px 1px 2px rgba(0, 0, 0, 0.3));\n",
              "      fill: #FFFFFF;\n",
              "    }\n",
              "  </style>\n",
              "\n",
              "      <script>\n",
              "        const buttonEl =\n",
              "          document.querySelector('#df-945ed18e-a51a-4fcc-ace3-a062559072cf button.colab-df-convert');\n",
              "        buttonEl.style.display =\n",
              "          google.colab.kernel.accessAllowed ? 'block' : 'none';\n",
              "\n",
              "        async function convertToInteractive(key) {\n",
              "          const element = document.querySelector('#df-945ed18e-a51a-4fcc-ace3-a062559072cf');\n",
              "          const dataTable =\n",
              "            await google.colab.kernel.invokeFunction('convertToInteractive',\n",
              "                                                     [key], {});\n",
              "          if (!dataTable) return;\n",
              "\n",
              "          const docLinkHtml = 'Like what you see? Visit the ' +\n",
              "            '<a target=\"_blank\" href=https://colab.research.google.com/notebooks/data_table.ipynb>data table notebook</a>'\n",
              "            + ' to learn more about interactive tables.';\n",
              "          element.innerHTML = '';\n",
              "          dataTable['output_type'] = 'display_data';\n",
              "          await google.colab.output.renderOutput(dataTable, element);\n",
              "          const docLink = document.createElement('div');\n",
              "          docLink.innerHTML = docLinkHtml;\n",
              "          element.appendChild(docLink);\n",
              "        }\n",
              "      </script>\n",
              "    </div>\n",
              "  </div>\n",
              "  "
            ]
          },
          "metadata": {},
          "execution_count": 115
        }
      ]
    },
    {
      "cell_type": "code",
      "source": [
        "sales.head()"
      ],
      "metadata": {
        "colab": {
          "base_uri": "https://localhost:8080/",
          "height": 444
        },
        "id": "JwxZvY5YKd2w",
        "outputId": "f1f16edb-700e-4eee-ccfa-ddddbcb223ae"
      },
      "execution_count": null,
      "outputs": [
        {
          "output_type": "execute_result",
          "data": {
            "text/plain": [
              "        Date  Day     Month  Year  Customer_Age       Age_Group  \\\n",
              "0 2013-11-26   26  November  2013            19     Youth (<25)   \n",
              "1 2015-11-26   26  November  2015            19     Youth (<25)   \n",
              "2 2014-03-23   23     March  2014            49  Adults (35-64)   \n",
              "3 2016-03-23   23     March  2016            49  Adults (35-64)   \n",
              "4 2014-05-15   15       May  2014            47  Adults (35-64)   \n",
              "\n",
              "  Customer_Gender    Country             State Product_Category Sub_Category  \\\n",
              "0               M     Canada  British Columbia      Accessories   Bike Racks   \n",
              "1               M     Canada  British Columbia      Accessories   Bike Racks   \n",
              "2               M  Australia   New South Wales      Accessories   Bike Racks   \n",
              "3               M  Australia   New South Wales      Accessories   Bike Racks   \n",
              "4               F  Australia   New South Wales      Accessories   Bike Racks   \n",
              "\n",
              "               Product  Order_Quantity  Unit_Cost  Unit_Price  Profit  Cost  \\\n",
              "0  Hitch Rack - 4-Bike               8         45         120     590   360   \n",
              "1  Hitch Rack - 4-Bike               8         45         120     590   360   \n",
              "2  Hitch Rack - 4-Bike              23         45         120    1366  1035   \n",
              "3  Hitch Rack - 4-Bike              20         45         120    1188   900   \n",
              "4  Hitch Rack - 4-Bike               4         45         120     238   180   \n",
              "\n",
              "   Revenue  \n",
              "0      950  \n",
              "1      950  \n",
              "2     2401  \n",
              "3     2088  \n",
              "4      418  "
            ],
            "text/html": [
              "\n",
              "  <div id=\"df-ce7dbc0e-0548-4003-be4a-7b8b44952573\">\n",
              "    <div class=\"colab-df-container\">\n",
              "      <div>\n",
              "<style scoped>\n",
              "    .dataframe tbody tr th:only-of-type {\n",
              "        vertical-align: middle;\n",
              "    }\n",
              "\n",
              "    .dataframe tbody tr th {\n",
              "        vertical-align: top;\n",
              "    }\n",
              "\n",
              "    .dataframe thead th {\n",
              "        text-align: right;\n",
              "    }\n",
              "</style>\n",
              "<table border=\"1\" class=\"dataframe\">\n",
              "  <thead>\n",
              "    <tr style=\"text-align: right;\">\n",
              "      <th></th>\n",
              "      <th>Date</th>\n",
              "      <th>Day</th>\n",
              "      <th>Month</th>\n",
              "      <th>Year</th>\n",
              "      <th>Customer_Age</th>\n",
              "      <th>Age_Group</th>\n",
              "      <th>Customer_Gender</th>\n",
              "      <th>Country</th>\n",
              "      <th>State</th>\n",
              "      <th>Product_Category</th>\n",
              "      <th>Sub_Category</th>\n",
              "      <th>Product</th>\n",
              "      <th>Order_Quantity</th>\n",
              "      <th>Unit_Cost</th>\n",
              "      <th>Unit_Price</th>\n",
              "      <th>Profit</th>\n",
              "      <th>Cost</th>\n",
              "      <th>Revenue</th>\n",
              "    </tr>\n",
              "  </thead>\n",
              "  <tbody>\n",
              "    <tr>\n",
              "      <th>0</th>\n",
              "      <td>2013-11-26</td>\n",
              "      <td>26</td>\n",
              "      <td>November</td>\n",
              "      <td>2013</td>\n",
              "      <td>19</td>\n",
              "      <td>Youth (&lt;25)</td>\n",
              "      <td>M</td>\n",
              "      <td>Canada</td>\n",
              "      <td>British Columbia</td>\n",
              "      <td>Accessories</td>\n",
              "      <td>Bike Racks</td>\n",
              "      <td>Hitch Rack - 4-Bike</td>\n",
              "      <td>8</td>\n",
              "      <td>45</td>\n",
              "      <td>120</td>\n",
              "      <td>590</td>\n",
              "      <td>360</td>\n",
              "      <td>950</td>\n",
              "    </tr>\n",
              "    <tr>\n",
              "      <th>1</th>\n",
              "      <td>2015-11-26</td>\n",
              "      <td>26</td>\n",
              "      <td>November</td>\n",
              "      <td>2015</td>\n",
              "      <td>19</td>\n",
              "      <td>Youth (&lt;25)</td>\n",
              "      <td>M</td>\n",
              "      <td>Canada</td>\n",
              "      <td>British Columbia</td>\n",
              "      <td>Accessories</td>\n",
              "      <td>Bike Racks</td>\n",
              "      <td>Hitch Rack - 4-Bike</td>\n",
              "      <td>8</td>\n",
              "      <td>45</td>\n",
              "      <td>120</td>\n",
              "      <td>590</td>\n",
              "      <td>360</td>\n",
              "      <td>950</td>\n",
              "    </tr>\n",
              "    <tr>\n",
              "      <th>2</th>\n",
              "      <td>2014-03-23</td>\n",
              "      <td>23</td>\n",
              "      <td>March</td>\n",
              "      <td>2014</td>\n",
              "      <td>49</td>\n",
              "      <td>Adults (35-64)</td>\n",
              "      <td>M</td>\n",
              "      <td>Australia</td>\n",
              "      <td>New South Wales</td>\n",
              "      <td>Accessories</td>\n",
              "      <td>Bike Racks</td>\n",
              "      <td>Hitch Rack - 4-Bike</td>\n",
              "      <td>23</td>\n",
              "      <td>45</td>\n",
              "      <td>120</td>\n",
              "      <td>1366</td>\n",
              "      <td>1035</td>\n",
              "      <td>2401</td>\n",
              "    </tr>\n",
              "    <tr>\n",
              "      <th>3</th>\n",
              "      <td>2016-03-23</td>\n",
              "      <td>23</td>\n",
              "      <td>March</td>\n",
              "      <td>2016</td>\n",
              "      <td>49</td>\n",
              "      <td>Adults (35-64)</td>\n",
              "      <td>M</td>\n",
              "      <td>Australia</td>\n",
              "      <td>New South Wales</td>\n",
              "      <td>Accessories</td>\n",
              "      <td>Bike Racks</td>\n",
              "      <td>Hitch Rack - 4-Bike</td>\n",
              "      <td>20</td>\n",
              "      <td>45</td>\n",
              "      <td>120</td>\n",
              "      <td>1188</td>\n",
              "      <td>900</td>\n",
              "      <td>2088</td>\n",
              "    </tr>\n",
              "    <tr>\n",
              "      <th>4</th>\n",
              "      <td>2014-05-15</td>\n",
              "      <td>15</td>\n",
              "      <td>May</td>\n",
              "      <td>2014</td>\n",
              "      <td>47</td>\n",
              "      <td>Adults (35-64)</td>\n",
              "      <td>F</td>\n",
              "      <td>Australia</td>\n",
              "      <td>New South Wales</td>\n",
              "      <td>Accessories</td>\n",
              "      <td>Bike Racks</td>\n",
              "      <td>Hitch Rack - 4-Bike</td>\n",
              "      <td>4</td>\n",
              "      <td>45</td>\n",
              "      <td>120</td>\n",
              "      <td>238</td>\n",
              "      <td>180</td>\n",
              "      <td>418</td>\n",
              "    </tr>\n",
              "  </tbody>\n",
              "</table>\n",
              "</div>\n",
              "      <button class=\"colab-df-convert\" onclick=\"convertToInteractive('df-ce7dbc0e-0548-4003-be4a-7b8b44952573')\"\n",
              "              title=\"Convert this dataframe to an interactive table.\"\n",
              "              style=\"display:none;\">\n",
              "        \n",
              "  <svg xmlns=\"http://www.w3.org/2000/svg\" height=\"24px\"viewBox=\"0 0 24 24\"\n",
              "       width=\"24px\">\n",
              "    <path d=\"M0 0h24v24H0V0z\" fill=\"none\"/>\n",
              "    <path d=\"M18.56 5.44l.94 2.06.94-2.06 2.06-.94-2.06-.94-.94-2.06-.94 2.06-2.06.94zm-11 1L8.5 8.5l.94-2.06 2.06-.94-2.06-.94L8.5 2.5l-.94 2.06-2.06.94zm10 10l.94 2.06.94-2.06 2.06-.94-2.06-.94-.94-2.06-.94 2.06-2.06.94z\"/><path d=\"M17.41 7.96l-1.37-1.37c-.4-.4-.92-.59-1.43-.59-.52 0-1.04.2-1.43.59L10.3 9.45l-7.72 7.72c-.78.78-.78 2.05 0 2.83L4 21.41c.39.39.9.59 1.41.59.51 0 1.02-.2 1.41-.59l7.78-7.78 2.81-2.81c.8-.78.8-2.07 0-2.86zM5.41 20L4 18.59l7.72-7.72 1.47 1.35L5.41 20z\"/>\n",
              "  </svg>\n",
              "      </button>\n",
              "      \n",
              "  <style>\n",
              "    .colab-df-container {\n",
              "      display:flex;\n",
              "      flex-wrap:wrap;\n",
              "      gap: 12px;\n",
              "    }\n",
              "\n",
              "    .colab-df-convert {\n",
              "      background-color: #E8F0FE;\n",
              "      border: none;\n",
              "      border-radius: 50%;\n",
              "      cursor: pointer;\n",
              "      display: none;\n",
              "      fill: #1967D2;\n",
              "      height: 32px;\n",
              "      padding: 0 0 0 0;\n",
              "      width: 32px;\n",
              "    }\n",
              "\n",
              "    .colab-df-convert:hover {\n",
              "      background-color: #E2EBFA;\n",
              "      box-shadow: 0px 1px 2px rgba(60, 64, 67, 0.3), 0px 1px 3px 1px rgba(60, 64, 67, 0.15);\n",
              "      fill: #174EA6;\n",
              "    }\n",
              "\n",
              "    [theme=dark] .colab-df-convert {\n",
              "      background-color: #3B4455;\n",
              "      fill: #D2E3FC;\n",
              "    }\n",
              "\n",
              "    [theme=dark] .colab-df-convert:hover {\n",
              "      background-color: #434B5C;\n",
              "      box-shadow: 0px 1px 3px 1px rgba(0, 0, 0, 0.15);\n",
              "      filter: drop-shadow(0px 1px 2px rgba(0, 0, 0, 0.3));\n",
              "      fill: #FFFFFF;\n",
              "    }\n",
              "  </style>\n",
              "\n",
              "      <script>\n",
              "        const buttonEl =\n",
              "          document.querySelector('#df-ce7dbc0e-0548-4003-be4a-7b8b44952573 button.colab-df-convert');\n",
              "        buttonEl.style.display =\n",
              "          google.colab.kernel.accessAllowed ? 'block' : 'none';\n",
              "\n",
              "        async function convertToInteractive(key) {\n",
              "          const element = document.querySelector('#df-ce7dbc0e-0548-4003-be4a-7b8b44952573');\n",
              "          const dataTable =\n",
              "            await google.colab.kernel.invokeFunction('convertToInteractive',\n",
              "                                                     [key], {});\n",
              "          if (!dataTable) return;\n",
              "\n",
              "          const docLinkHtml = 'Like what you see? Visit the ' +\n",
              "            '<a target=\"_blank\" href=https://colab.research.google.com/notebooks/data_table.ipynb>data table notebook</a>'\n",
              "            + ' to learn more about interactive tables.';\n",
              "          element.innerHTML = '';\n",
              "          dataTable['output_type'] = 'display_data';\n",
              "          await google.colab.output.renderOutput(dataTable, element);\n",
              "          const docLink = document.createElement('div');\n",
              "          docLink.innerHTML = docLinkHtml;\n",
              "          element.appendChild(docLink);\n",
              "        }\n",
              "      </script>\n",
              "    </div>\n",
              "  </div>\n",
              "  "
            ]
          },
          "metadata": {},
          "execution_count": 116
        }
      ]
    },
    {
      "cell_type": "code",
      "source": [
        "sales.shape"
      ],
      "metadata": {
        "colab": {
          "base_uri": "https://localhost:8080/"
        },
        "id": "ImjneMCoMHSq",
        "outputId": "2887b929-0f89-403f-caab-6092196298ec"
      },
      "execution_count": null,
      "outputs": [
        {
          "output_type": "execute_result",
          "data": {
            "text/plain": [
              "(113036, 18)"
            ]
          },
          "metadata": {},
          "execution_count": 117
        }
      ]
    },
    {
      "cell_type": "code",
      "source": [
        "sales.info()\n",
        "#infos of the data"
      ],
      "metadata": {
        "colab": {
          "base_uri": "https://localhost:8080/"
        },
        "id": "vI8NnC60Mr8T",
        "outputId": "e29aa9bf-a65b-47af-a635-d9ce4aeb3d01"
      },
      "execution_count": null,
      "outputs": [
        {
          "output_type": "stream",
          "name": "stdout",
          "text": [
            "<class 'pandas.core.frame.DataFrame'>\n",
            "RangeIndex: 113036 entries, 0 to 113035\n",
            "Data columns (total 18 columns):\n",
            " #   Column            Non-Null Count   Dtype         \n",
            "---  ------            --------------   -----         \n",
            " 0   Date              113036 non-null  datetime64[ns]\n",
            " 1   Day               113036 non-null  int64         \n",
            " 2   Month             113036 non-null  object        \n",
            " 3   Year              113036 non-null  int64         \n",
            " 4   Customer_Age      113036 non-null  int64         \n",
            " 5   Age_Group         113036 non-null  object        \n",
            " 6   Customer_Gender   113036 non-null  object        \n",
            " 7   Country           113036 non-null  object        \n",
            " 8   State             113036 non-null  object        \n",
            " 9   Product_Category  113036 non-null  object        \n",
            " 10  Sub_Category      113036 non-null  object        \n",
            " 11  Product           113036 non-null  object        \n",
            " 12  Order_Quantity    113036 non-null  int64         \n",
            " 13  Unit_Cost         113036 non-null  int64         \n",
            " 14  Unit_Price        113036 non-null  int64         \n",
            " 15  Profit            113036 non-null  int64         \n",
            " 16  Cost              113036 non-null  int64         \n",
            " 17  Revenue           113036 non-null  int64         \n",
            "dtypes: datetime64[ns](1), int64(9), object(8)\n",
            "memory usage: 15.5+ MB\n"
          ]
        }
      ]
    },
    {
      "cell_type": "code",
      "source": [
        "sales.describe()\n",
        "#check the statistical information of the data, like the mean, min, max... for all the columns"
      ],
      "metadata": {
        "colab": {
          "base_uri": "https://localhost:8080/",
          "height": 300
        },
        "id": "nhzBOMR_NDwF",
        "outputId": "c278c0ef-3311-4008-f2de-88a2d9005aa5"
      },
      "execution_count": null,
      "outputs": [
        {
          "output_type": "execute_result",
          "data": {
            "text/plain": [
              "                 Day           Year   Customer_Age  Order_Quantity  \\\n",
              "count  113036.000000  113036.000000  113036.000000   113036.000000   \n",
              "mean       15.665753    2014.401739      35.919212       11.901660   \n",
              "std         8.781567       1.272510      11.021936        9.561857   \n",
              "min         1.000000    2011.000000      17.000000        1.000000   \n",
              "25%         8.000000    2013.000000      28.000000        2.000000   \n",
              "50%        16.000000    2014.000000      35.000000       10.000000   \n",
              "75%        23.000000    2016.000000      43.000000       20.000000   \n",
              "max        31.000000    2016.000000      87.000000       32.000000   \n",
              "\n",
              "           Unit_Cost     Unit_Price         Profit           Cost  \\\n",
              "count  113036.000000  113036.000000  113036.000000  113036.000000   \n",
              "mean      267.296366     452.938427     285.051665     469.318695   \n",
              "std       549.835483     922.071219     453.887443     884.866118   \n",
              "min         1.000000       2.000000     -30.000000       1.000000   \n",
              "25%         2.000000       5.000000      29.000000      28.000000   \n",
              "50%         9.000000      24.000000     101.000000     108.000000   \n",
              "75%        42.000000      70.000000     358.000000     432.000000   \n",
              "max      2171.000000    3578.000000   15096.000000   42978.000000   \n",
              "\n",
              "             Revenue  \n",
              "count  113036.000000  \n",
              "mean      754.370360  \n",
              "std      1309.094674  \n",
              "min         2.000000  \n",
              "25%        63.000000  \n",
              "50%       223.000000  \n",
              "75%       800.000000  \n",
              "max     58074.000000  "
            ],
            "text/html": [
              "\n",
              "  <div id=\"df-d90af8cb-361f-4660-9282-8b17552517ae\">\n",
              "    <div class=\"colab-df-container\">\n",
              "      <div>\n",
              "<style scoped>\n",
              "    .dataframe tbody tr th:only-of-type {\n",
              "        vertical-align: middle;\n",
              "    }\n",
              "\n",
              "    .dataframe tbody tr th {\n",
              "        vertical-align: top;\n",
              "    }\n",
              "\n",
              "    .dataframe thead th {\n",
              "        text-align: right;\n",
              "    }\n",
              "</style>\n",
              "<table border=\"1\" class=\"dataframe\">\n",
              "  <thead>\n",
              "    <tr style=\"text-align: right;\">\n",
              "      <th></th>\n",
              "      <th>Day</th>\n",
              "      <th>Year</th>\n",
              "      <th>Customer_Age</th>\n",
              "      <th>Order_Quantity</th>\n",
              "      <th>Unit_Cost</th>\n",
              "      <th>Unit_Price</th>\n",
              "      <th>Profit</th>\n",
              "      <th>Cost</th>\n",
              "      <th>Revenue</th>\n",
              "    </tr>\n",
              "  </thead>\n",
              "  <tbody>\n",
              "    <tr>\n",
              "      <th>count</th>\n",
              "      <td>113036.000000</td>\n",
              "      <td>113036.000000</td>\n",
              "      <td>113036.000000</td>\n",
              "      <td>113036.000000</td>\n",
              "      <td>113036.000000</td>\n",
              "      <td>113036.000000</td>\n",
              "      <td>113036.000000</td>\n",
              "      <td>113036.000000</td>\n",
              "      <td>113036.000000</td>\n",
              "    </tr>\n",
              "    <tr>\n",
              "      <th>mean</th>\n",
              "      <td>15.665753</td>\n",
              "      <td>2014.401739</td>\n",
              "      <td>35.919212</td>\n",
              "      <td>11.901660</td>\n",
              "      <td>267.296366</td>\n",
              "      <td>452.938427</td>\n",
              "      <td>285.051665</td>\n",
              "      <td>469.318695</td>\n",
              "      <td>754.370360</td>\n",
              "    </tr>\n",
              "    <tr>\n",
              "      <th>std</th>\n",
              "      <td>8.781567</td>\n",
              "      <td>1.272510</td>\n",
              "      <td>11.021936</td>\n",
              "      <td>9.561857</td>\n",
              "      <td>549.835483</td>\n",
              "      <td>922.071219</td>\n",
              "      <td>453.887443</td>\n",
              "      <td>884.866118</td>\n",
              "      <td>1309.094674</td>\n",
              "    </tr>\n",
              "    <tr>\n",
              "      <th>min</th>\n",
              "      <td>1.000000</td>\n",
              "      <td>2011.000000</td>\n",
              "      <td>17.000000</td>\n",
              "      <td>1.000000</td>\n",
              "      <td>1.000000</td>\n",
              "      <td>2.000000</td>\n",
              "      <td>-30.000000</td>\n",
              "      <td>1.000000</td>\n",
              "      <td>2.000000</td>\n",
              "    </tr>\n",
              "    <tr>\n",
              "      <th>25%</th>\n",
              "      <td>8.000000</td>\n",
              "      <td>2013.000000</td>\n",
              "      <td>28.000000</td>\n",
              "      <td>2.000000</td>\n",
              "      <td>2.000000</td>\n",
              "      <td>5.000000</td>\n",
              "      <td>29.000000</td>\n",
              "      <td>28.000000</td>\n",
              "      <td>63.000000</td>\n",
              "    </tr>\n",
              "    <tr>\n",
              "      <th>50%</th>\n",
              "      <td>16.000000</td>\n",
              "      <td>2014.000000</td>\n",
              "      <td>35.000000</td>\n",
              "      <td>10.000000</td>\n",
              "      <td>9.000000</td>\n",
              "      <td>24.000000</td>\n",
              "      <td>101.000000</td>\n",
              "      <td>108.000000</td>\n",
              "      <td>223.000000</td>\n",
              "    </tr>\n",
              "    <tr>\n",
              "      <th>75%</th>\n",
              "      <td>23.000000</td>\n",
              "      <td>2016.000000</td>\n",
              "      <td>43.000000</td>\n",
              "      <td>20.000000</td>\n",
              "      <td>42.000000</td>\n",
              "      <td>70.000000</td>\n",
              "      <td>358.000000</td>\n",
              "      <td>432.000000</td>\n",
              "      <td>800.000000</td>\n",
              "    </tr>\n",
              "    <tr>\n",
              "      <th>max</th>\n",
              "      <td>31.000000</td>\n",
              "      <td>2016.000000</td>\n",
              "      <td>87.000000</td>\n",
              "      <td>32.000000</td>\n",
              "      <td>2171.000000</td>\n",
              "      <td>3578.000000</td>\n",
              "      <td>15096.000000</td>\n",
              "      <td>42978.000000</td>\n",
              "      <td>58074.000000</td>\n",
              "    </tr>\n",
              "  </tbody>\n",
              "</table>\n",
              "</div>\n",
              "      <button class=\"colab-df-convert\" onclick=\"convertToInteractive('df-d90af8cb-361f-4660-9282-8b17552517ae')\"\n",
              "              title=\"Convert this dataframe to an interactive table.\"\n",
              "              style=\"display:none;\">\n",
              "        \n",
              "  <svg xmlns=\"http://www.w3.org/2000/svg\" height=\"24px\"viewBox=\"0 0 24 24\"\n",
              "       width=\"24px\">\n",
              "    <path d=\"M0 0h24v24H0V0z\" fill=\"none\"/>\n",
              "    <path d=\"M18.56 5.44l.94 2.06.94-2.06 2.06-.94-2.06-.94-.94-2.06-.94 2.06-2.06.94zm-11 1L8.5 8.5l.94-2.06 2.06-.94-2.06-.94L8.5 2.5l-.94 2.06-2.06.94zm10 10l.94 2.06.94-2.06 2.06-.94-2.06-.94-.94-2.06-.94 2.06-2.06.94z\"/><path d=\"M17.41 7.96l-1.37-1.37c-.4-.4-.92-.59-1.43-.59-.52 0-1.04.2-1.43.59L10.3 9.45l-7.72 7.72c-.78.78-.78 2.05 0 2.83L4 21.41c.39.39.9.59 1.41.59.51 0 1.02-.2 1.41-.59l7.78-7.78 2.81-2.81c.8-.78.8-2.07 0-2.86zM5.41 20L4 18.59l7.72-7.72 1.47 1.35L5.41 20z\"/>\n",
              "  </svg>\n",
              "      </button>\n",
              "      \n",
              "  <style>\n",
              "    .colab-df-container {\n",
              "      display:flex;\n",
              "      flex-wrap:wrap;\n",
              "      gap: 12px;\n",
              "    }\n",
              "\n",
              "    .colab-df-convert {\n",
              "      background-color: #E8F0FE;\n",
              "      border: none;\n",
              "      border-radius: 50%;\n",
              "      cursor: pointer;\n",
              "      display: none;\n",
              "      fill: #1967D2;\n",
              "      height: 32px;\n",
              "      padding: 0 0 0 0;\n",
              "      width: 32px;\n",
              "    }\n",
              "\n",
              "    .colab-df-convert:hover {\n",
              "      background-color: #E2EBFA;\n",
              "      box-shadow: 0px 1px 2px rgba(60, 64, 67, 0.3), 0px 1px 3px 1px rgba(60, 64, 67, 0.15);\n",
              "      fill: #174EA6;\n",
              "    }\n",
              "\n",
              "    [theme=dark] .colab-df-convert {\n",
              "      background-color: #3B4455;\n",
              "      fill: #D2E3FC;\n",
              "    }\n",
              "\n",
              "    [theme=dark] .colab-df-convert:hover {\n",
              "      background-color: #434B5C;\n",
              "      box-shadow: 0px 1px 3px 1px rgba(0, 0, 0, 0.15);\n",
              "      filter: drop-shadow(0px 1px 2px rgba(0, 0, 0, 0.3));\n",
              "      fill: #FFFFFF;\n",
              "    }\n",
              "  </style>\n",
              "\n",
              "      <script>\n",
              "        const buttonEl =\n",
              "          document.querySelector('#df-d90af8cb-361f-4660-9282-8b17552517ae button.colab-df-convert');\n",
              "        buttonEl.style.display =\n",
              "          google.colab.kernel.accessAllowed ? 'block' : 'none';\n",
              "\n",
              "        async function convertToInteractive(key) {\n",
              "          const element = document.querySelector('#df-d90af8cb-361f-4660-9282-8b17552517ae');\n",
              "          const dataTable =\n",
              "            await google.colab.kernel.invokeFunction('convertToInteractive',\n",
              "                                                     [key], {});\n",
              "          if (!dataTable) return;\n",
              "\n",
              "          const docLinkHtml = 'Like what you see? Visit the ' +\n",
              "            '<a target=\"_blank\" href=https://colab.research.google.com/notebooks/data_table.ipynb>data table notebook</a>'\n",
              "            + ' to learn more about interactive tables.';\n",
              "          element.innerHTML = '';\n",
              "          dataTable['output_type'] = 'display_data';\n",
              "          await google.colab.output.renderOutput(dataTable, element);\n",
              "          const docLink = document.createElement('div');\n",
              "          docLink.innerHTML = docLinkHtml;\n",
              "          element.appendChild(docLink);\n",
              "        }\n",
              "      </script>\n",
              "    </div>\n",
              "  </div>\n",
              "  "
            ]
          },
          "metadata": {},
          "execution_count": 119
        }
      ]
    },
    {
      "cell_type": "markdown",
      "source": [
        "**Exercice 1**"
      ],
      "metadata": {
        "id": "N1tKfIRZRBNA"
      }
    },
    {
      "cell_type": "code",
      "source": [
        "#What's the mean of Customers_Age?\n",
        "mean_age=sales['Customer_Age'].mean()\n",
        "print(mean_age)"
      ],
      "metadata": {
        "colab": {
          "base_uri": "https://localhost:8080/"
        },
        "id": "3brM26zfNcaB",
        "outputId": "1f6399ba-100a-434d-a19c-3cf8de5b182c"
      },
      "execution_count": null,
      "outputs": [
        {
          "output_type": "stream",
          "name": "stdout",
          "text": [
            "35.91921157861212\n"
          ]
        }
      ]
    },
    {
      "cell_type": "code",
      "source": [
        "#Plot the customer age to show a KDE density\n",
        "sales['Customer_Age'].plot(kind='kde',figsize=(14,6))"
      ],
      "metadata": {
        "colab": {
          "base_uri": "https://localhost:8080/",
          "height": 391
        },
        "id": "22TJhAa6X0g5",
        "outputId": "88c5990e-6143-438e-810c-dfc84bc41358"
      },
      "execution_count": null,
      "outputs": [
        {
          "output_type": "execute_result",
          "data": {
            "text/plain": [
              "<matplotlib.axes._subplots.AxesSubplot at 0x7ffa7f092250>"
            ]
          },
          "metadata": {},
          "execution_count": 121
        },
        {
          "output_type": "display_data",
          "data": {
            "text/plain": [
              "<Figure size 1008x432 with 1 Axes>"
            ],
            "image/png": "[encoded data removed]"
          },
          "metadata": {
            "needs_background": "light"
          }
        }
      ]
    },
    {
      "cell_type": "code",
      "source": [
        "#Plot the customer age as a box plot, vert=False means the plot should be horizontal\n",
        "sales['Customer_Age'].plot(kind='box', vert=False, figsize=(14,6))"
      ],
      "metadata": {
        "colab": {
          "base_uri": "https://localhost:8080/",
          "height": 391
        },
        "id": "5rU3pB_Bun2I",
        "outputId": "32c18fb7-c19f-446b-e8cb-aaebdb2acfed"
      },
      "execution_count": null,
      "outputs": [
        {
          "output_type": "execute_result",
          "data": {
            "text/plain": [
              "<matplotlib.axes._subplots.AxesSubplot at 0x7ffa7e344d10>"
            ]
          },
          "metadata": {},
          "execution_count": 122
        },
        {
          "output_type": "display_data",
          "data": {
            "text/plain": [
              "<Figure size 1008x432 with 1 Axes>"
            ],
            "image/png": "[encoded data removed]"
          },
          "metadata": {
            "needs_background": "light"
          }
        }
      ]
    },
    {
      "cell_type": "code",
      "source": [
        "#What's the mean of Order_Quantity?\n",
        "mean_order=sales['Order_Quantity'].mean()\n",
        "print(mean_order)"
      ],
      "metadata": {
        "colab": {
          "base_uri": "https://localhost:8080/"
        },
        "id": "2-S71ZT-vKjD",
        "outputId": "f750f0fb-b577-44cc-807b-c1b28c826d26"
      },
      "execution_count": null,
      "outputs": [
        {
          "output_type": "stream",
          "name": "stdout",
          "text": [
            "11.901659648253654\n"
          ]
        }
      ]
    },
    {
      "cell_type": "code",
      "source": [
        "sales['Order_Quantity'].plot(kind='kde', figsize=(14,6))"
      ],
      "metadata": {
        "colab": {
          "base_uri": "https://localhost:8080/",
          "height": 391
        },
        "id": "iMbLwOYbzCGL",
        "outputId": "0ffbf3bd-5731-442c-d8d2-58de42bc3298"
      },
      "execution_count": null,
      "outputs": [
        {
          "output_type": "execute_result",
          "data": {
            "text/plain": [
              "<matplotlib.axes._subplots.AxesSubplot at 0x7ffa7efdf150>"
            ]
          },
          "metadata": {},
          "execution_count": 124
        },
        {
          "output_type": "display_data",
          "data": {
            "text/plain": [
              "<Figure size 1008x432 with 1 Axes>"
            ],
            "image/png": "[encoded data removed]"
          },
          "metadata": {
            "needs_background": "light"
          }
        }
      ]
    },
    {
      "cell_type": "code",
      "source": [
        "sales['Order_Quantity'].plot(kind='box',vert=False, figsize=(14,6))"
      ],
      "metadata": {
        "colab": {
          "base_uri": "https://localhost:8080/",
          "height": 391
        },
        "id": "rtgVoEBl66Le",
        "outputId": "557e76d2-25bf-487b-b9a7-6ec6247a237e"
      },
      "execution_count": null,
      "outputs": [
        {
          "output_type": "execute_result",
          "data": {
            "text/plain": [
              "<matplotlib.axes._subplots.AxesSubplot at 0x7ffa7e7b0610>"
            ]
          },
          "metadata": {},
          "execution_count": 125
        },
        {
          "output_type": "display_data",
          "data": {
            "text/plain": [
              "<Figure size 1008x432 with 1 Axes>"
            ],
            "image/png": "[encoded data removed]"
          },
          "metadata": {
            "needs_background": "light"
          }
        }
      ]
    },
    {
      "cell_type": "code",
      "source": [
        "sales['Year'].value_counts()"
      ],
      "metadata": {
        "colab": {
          "base_uri": "https://localhost:8080/"
        },
        "id": "sMqb4Qkz76ij",
        "outputId": "52515b1b-4747-41e2-a29f-d52be24ad361"
      },
      "execution_count": null,
      "outputs": [
        {
          "output_type": "execute_result",
          "data": {
            "text/plain": [
              "2014    29398\n",
              "2016    29398\n",
              "2013    24443\n",
              "2015    24443\n",
              "2012     2677\n",
              "2011     2677\n",
              "Name: Year, dtype: int64"
            ]
          },
          "metadata": {},
          "execution_count": 126
        }
      ]
    },
    {
      "cell_type": "code",
      "source": [
        "sales['Year'].value_counts().plot(kind='pie', figsize=(6,6))"
      ],
      "metadata": {
        "colab": {
          "base_uri": "https://localhost:8080/",
          "height": 374
        },
        "id": "UHdGOEHEAoLV",
        "outputId": "bf8dc49c-ff60-478c-a975-4de64c2d0866"
      },
      "execution_count": null,
      "outputs": [
        {
          "output_type": "execute_result",
          "data": {
            "text/plain": [
              "<matplotlib.axes._subplots.AxesSubplot at 0x7ffa7ee3af10>"
            ]
          },
          "metadata": {},
          "execution_count": 127
        },
        {
          "output_type": "display_data",
          "data": {
            "text/plain": [
              "<Figure size 432x432 with 1 Axes>"
            ],
            "image/png": "[encoded data removed]"
          },
          "metadata": {}
        }
      ]
    },
    {
      "cell_type": "code",
      "source": [
        "sales['Month'].value_counts()"
      ],
      "metadata": {
        "colab": {
          "base_uri": "https://localhost:8080/"
        },
        "id": "CR1tD9LFAsuA",
        "outputId": "8396f45c-96f9-4916-acb6-16de91bfe1ac"
      },
      "execution_count": null,
      "outputs": [
        {
          "output_type": "execute_result",
          "data": {
            "text/plain": [
              "June         11234\n",
              "December     11200\n",
              "May          11128\n",
              "April        10182\n",
              "March         9674\n",
              "January       9284\n",
              "February      9022\n",
              "October       8750\n",
              "November      8734\n",
              "August        8200\n",
              "September     8166\n",
              "July          7462\n",
              "Name: Month, dtype: int64"
            ]
          },
          "metadata": {},
          "execution_count": 128
        }
      ]
    },
    {
      "cell_type": "code",
      "source": [
        "sales['Month'].value_counts().plot(kind='pie', figsize=(6,6))"
      ],
      "metadata": {
        "colab": {
          "base_uri": "https://localhost:8080/",
          "height": 374
        },
        "id": "R1QTpFeIBHMV",
        "outputId": "fba2f7d4-e9b8-4a24-9906-ced553d4a14b"
      },
      "execution_count": null,
      "outputs": [
        {
          "output_type": "execute_result",
          "data": {
            "text/plain": [
              "<matplotlib.axes._subplots.AxesSubplot at 0x7ffa9ce5bdd0>"
            ]
          },
          "metadata": {},
          "execution_count": 129
        },
        {
          "output_type": "display_data",
          "data": {
            "text/plain": [
              "<Figure size 432x432 with 1 Axes>"
            ],
            "image/png": "[encoded data removed]"
          },
          "metadata": {}
        }
      ]
    },
    {
      "cell_type": "code",
      "source": [
        "sales['Month'].value_counts().plot(kind='bar', figsize=(6,6))"
      ],
      "metadata": {
        "colab": {
          "base_uri": "https://localhost:8080/",
          "height": 436
        },
        "id": "_2Jb2K37BWdM",
        "outputId": "d4fdfb0c-095b-4bfe-aea0-85bca6e782bc"
      },
      "execution_count": null,
      "outputs": [
        {
          "output_type": "execute_result",
          "data": {
            "text/plain": [
              "<matplotlib.axes._subplots.AxesSubplot at 0x7ffa7e7fe410>"
            ]
          },
          "metadata": {},
          "execution_count": 130
        },
        {
          "output_type": "display_data",
          "data": {
            "text/plain": [
              "<Figure size 432x432 with 1 Axes>"
            ],
            "image/png": "[encoded data removed]"
          },
          "metadata": {
            "needs_background": "light"
          }
        }
      ]
    },
    {
      "cell_type": "code",
      "source": [
        "sales['Country'].value_counts().head(1)\n",
        "#keep in mind that value count already returns output sorted in decreasing order."
      ],
      "metadata": {
        "colab": {
          "base_uri": "https://localhost:8080/"
        },
        "id": "M3Jp1XDYB5Qp",
        "outputId": "944c8a5e-fcd5-47a4-8bbc-eac3bebbb4d5"
      },
      "execution_count": null,
      "outputs": [
        {
          "output_type": "execute_result",
          "data": {
            "text/plain": [
              "United States    39206\n",
              "Name: Country, dtype: int64"
            ]
          },
          "metadata": {},
          "execution_count": 131
        }
      ]
    },
    {
      "cell_type": "code",
      "source": [
        "sales['Country'].value_counts().plot(kind='bar', figsize=(6,6))"
      ],
      "metadata": {
        "colab": {
          "base_uri": "https://localhost:8080/",
          "height": 461
        },
        "id": "yKfK-UfOCJ5E",
        "outputId": "02c95cb4-b308-42be-b7fb-38d38175e8fe"
      },
      "execution_count": null,
      "outputs": [
        {
          "output_type": "execute_result",
          "data": {
            "text/plain": [
              "<matplotlib.axes._subplots.AxesSubplot at 0x7ffa7e70d850>"
            ]
          },
          "metadata": {},
          "execution_count": 132
        },
        {
          "output_type": "display_data",
          "data": {
            "text/plain": [
              "<Figure size 432x432 with 1 Axes>"
            ],
            "image/png": "[encoded data removed]"
          },
          "metadata": {
            "needs_background": "light"
          }
        }
      ]
    },
    {
      "cell_type": "markdown",
      "source": [
        "Create a list of every product sold"
      ],
      "metadata": {
        "id": "IWJRKA9vXdvO"
      }
    },
    {
      "cell_type": "code",
      "source": [
        "sales['Product'].unique()"
      ],
      "metadata": {
        "colab": {
          "base_uri": "https://localhost:8080/"
        },
        "id": "dgbYYe0fXFrz",
        "outputId": "2df97ee6-7c7d-419c-dde4-e859d2214080"
      },
      "execution_count": null,
      "outputs": [
        {
          "output_type": "execute_result",
          "data": {
            "text/plain": [
              "array(['Hitch Rack - 4-Bike', 'All-Purpose Bike Stand',\n",
              "       'Mountain Bottle Cage', 'Water Bottle - 30 oz.',\n",
              "       'Road Bottle Cage', 'AWC Logo Cap', 'Bike Wash - Dissolver',\n",
              "       'Fender Set - Mountain', 'Half-Finger Gloves, L',\n",
              "       'Half-Finger Gloves, M', 'Half-Finger Gloves, S',\n",
              "       'Sport-100 Helmet, Black', 'Sport-100 Helmet, Red',\n",
              "       'Sport-100 Helmet, Blue', 'Hydration Pack - 70 oz.',\n",
              "       'Short-Sleeve Classic Jersey, XL',\n",
              "       'Short-Sleeve Classic Jersey, L', 'Short-Sleeve Classic Jersey, M',\n",
              "       'Short-Sleeve Classic Jersey, S', 'Long-Sleeve Logo Jersey, M',\n",
              "       'Long-Sleeve Logo Jersey, XL', 'Long-Sleeve Logo Jersey, L',\n",
              "       'Long-Sleeve Logo Jersey, S', 'Mountain-100 Silver, 38',\n",
              "       'Mountain-100 Silver, 44', 'Mountain-100 Black, 48',\n",
              "       'Mountain-100 Silver, 48', 'Mountain-100 Black, 38',\n",
              "       'Mountain-200 Silver, 38', 'Mountain-100 Black, 44',\n",
              "       'Mountain-100 Silver, 42', 'Mountain-200 Black, 46',\n",
              "       'Mountain-200 Silver, 42', 'Mountain-200 Silver, 46',\n",
              "       'Mountain-200 Black, 38', 'Mountain-100 Black, 42',\n",
              "       'Mountain-200 Black, 42', 'Mountain-400-W Silver, 46',\n",
              "       'Mountain-500 Silver, 40', 'Mountain-500 Silver, 44',\n",
              "       'Mountain-500 Black, 48', 'Mountain-500 Black, 40',\n",
              "       'Mountain-400-W Silver, 42', 'Mountain-500 Silver, 52',\n",
              "       'Mountain-500 Black, 52', 'Mountain-500 Silver, 42',\n",
              "       'Mountain-500 Black, 44', 'Mountain-500 Silver, 48',\n",
              "       'Mountain-400-W Silver, 38', 'Mountain-400-W Silver, 40',\n",
              "       'Mountain-500 Black, 42', 'Road-150 Red, 48', 'Road-150 Red, 62',\n",
              "       'Road-750 Black, 48', 'Road-750 Black, 58', 'Road-750 Black, 52',\n",
              "       'Road-150 Red, 52', 'Road-150 Red, 44', 'Road-150 Red, 56',\n",
              "       'Road-750 Black, 44', 'Road-350-W Yellow, 40',\n",
              "       'Road-350-W Yellow, 42', 'Road-250 Black, 44',\n",
              "       'Road-250 Black, 48', 'Road-350-W Yellow, 48',\n",
              "       'Road-550-W Yellow, 44', 'Road-550-W Yellow, 38',\n",
              "       'Road-250 Black, 52', 'Road-550-W Yellow, 48', 'Road-250 Red, 58',\n",
              "       'Road-250 Black, 58', 'Road-250 Red, 52', 'Road-250 Red, 48',\n",
              "       'Road-250 Red, 44', 'Road-550-W Yellow, 42',\n",
              "       'Road-550-W Yellow, 40', 'Road-650 Red, 48', 'Road-650 Red, 60',\n",
              "       'Road-650 Black, 48', 'Road-350-W Yellow, 44', 'Road-650 Red, 52',\n",
              "       'Road-650 Black, 44', 'Road-650 Red, 62', 'Road-650 Red, 58',\n",
              "       'Road-650 Black, 60', 'Road-650 Black, 58', 'Road-650 Black, 52',\n",
              "       'Road-650 Black, 62', 'Road-650 Red, 44',\n",
              "       \"Women's Mountain Shorts, M\", \"Women's Mountain Shorts, S\",\n",
              "       \"Women's Mountain Shorts, L\", 'Racing Socks, L', 'Racing Socks, M',\n",
              "       'Mountain Tire Tube', 'Touring Tire Tube', 'Patch Kit/8 Patches',\n",
              "       'HL Mountain Tire', 'LL Mountain Tire', 'Road Tire Tube',\n",
              "       'LL Road Tire', 'Touring Tire', 'ML Mountain Tire', 'HL Road Tire',\n",
              "       'ML Road Tire', 'Touring-1000 Yellow, 50', 'Touring-1000 Blue, 46',\n",
              "       'Touring-1000 Yellow, 60', 'Touring-1000 Blue, 50',\n",
              "       'Touring-3000 Yellow, 50', 'Touring-3000 Blue, 54',\n",
              "       'Touring-3000 Blue, 58', 'Touring-3000 Yellow, 44',\n",
              "       'Touring-3000 Yellow, 54', 'Touring-3000 Blue, 62',\n",
              "       'Touring-3000 Blue, 44', 'Touring-1000 Blue, 54',\n",
              "       'Touring-1000 Yellow, 46', 'Touring-1000 Blue, 60',\n",
              "       'Touring-3000 Yellow, 62', 'Touring-1000 Yellow, 54',\n",
              "       'Touring-2000 Blue, 54', 'Touring-3000 Blue, 50',\n",
              "       'Touring-3000 Yellow, 58', 'Touring-2000 Blue, 46',\n",
              "       'Touring-2000 Blue, 50', 'Touring-2000 Blue, 60',\n",
              "       'Classic Vest, L', 'Classic Vest, M', 'Classic Vest, S'],\n",
              "      dtype=object)"
            ]
          },
          "metadata": {},
          "execution_count": 133
        }
      ]
    },
    {
      "cell_type": "code",
      "source": [
        "#a plot with the 10 best sellers products\n",
        "sales['Product'].value_counts()[:10].plot(kind='bar', figsize=(6,6))"
      ],
      "metadata": {
        "colab": {
          "base_uri": "https://localhost:8080/",
          "height": 503
        },
        "id": "9iyS4zVGX5rT",
        "outputId": "6ec7f784-7b02-474d-c0d3-546132e159f6"
      },
      "execution_count": null,
      "outputs": [
        {
          "output_type": "execute_result",
          "data": {
            "text/plain": [
              "<matplotlib.axes._subplots.AxesSubplot at 0x7ffa7e754410>"
            ]
          },
          "metadata": {},
          "execution_count": 134
        },
        {
          "output_type": "display_data",
          "data": {
            "text/plain": [
              "<Figure size 432x432 with 1 Axes>"
            ],
            "image/png": "[encoded data removed]"
          },
          "metadata": {
            "needs_background": "light"
          }
        }
      ]
    },
    {
      "cell_type": "markdown",
      "source": [
        "Can you see any relationship between Unit_Cost and Unit_Price?\n",
        "The relationship between the attributes can be viewed by a mathematical tool called the correlation matrix"
      ],
      "metadata": {
        "id": "xSGkYTi4YlrM"
      }
    },
    {
      "cell_type": "code",
      "source": [
        "#Show a scatter plot between both columns.\n",
        "sales.plot(kind='scatter', x='Unit_Cost', y='Unit_Price', figsize=(6,6))\n",
        "#A scatter diagram is a graph in which the values of two variables are plotted along two axes, the pattern of the resulting points revealing any correlation present."
      ],
      "metadata": {
        "colab": {
          "base_uri": "https://localhost:8080/",
          "height": 406
        },
        "id": "M5SceM01YaU0",
        "outputId": "527ecb58-4fa6-4c9c-b77e-0acb1d7720dd"
      },
      "execution_count": null,
      "outputs": [
        {
          "output_type": "execute_result",
          "data": {
            "text/plain": [
              "<matplotlib.axes._subplots.AxesSubplot at 0x7ffa7ebdab50>"
            ]
          },
          "metadata": {},
          "execution_count": 135
        },
        {
          "output_type": "display_data",
          "data": {
            "text/plain": [
              "<Figure size 432x432 with 1 Axes>"
            ],
            "image/png": "[encoded data removed]"
          },
          "metadata": {
            "needs_background": "light"
          }
        }
      ]
    },
    {
      "cell_type": "code",
      "source": [
        "sales.plot(kind='scatter', x='Order_Quantity', y='Profit', figsize=(6,6))"
      ],
      "metadata": {
        "colab": {
          "base_uri": "https://localhost:8080/",
          "height": 406
        },
        "id": "1lY3mSKmbIt1",
        "outputId": "83570440-f5c8-4283-d4c7-0d508cd629c6"
      },
      "execution_count": null,
      "outputs": [
        {
          "output_type": "execute_result",
          "data": {
            "text/plain": [
              "<matplotlib.axes._subplots.AxesSubplot at 0x7ffa7e6bfdd0>"
            ]
          },
          "metadata": {},
          "execution_count": 136
        },
        {
          "output_type": "display_data",
          "data": {
            "text/plain": [
              "<Figure size 432x432 with 1 Axes>"
            ],
            "image/png": "[encoded data removed]"
          },
          "metadata": {
            "needs_background": "light"
          }
        }
      ]
    },
    {
      "cell_type": "code",
      "source": [
        "sales.plot(kind='scatter', x='Profit', y='Country', figsize=(6,6))"
      ],
      "metadata": {
        "colab": {
          "base_uri": "https://localhost:8080/",
          "height": 405
        },
        "id": "Up8I6lMCbrrR",
        "outputId": "b22a003f-50ec-413d-f107-e8b0b6f5bec4"
      },
      "execution_count": null,
      "outputs": [
        {
          "output_type": "execute_result",
          "data": {
            "text/plain": [
              "<matplotlib.axes._subplots.AxesSubplot at 0x7ffa7e5af8d0>"
            ]
          },
          "metadata": {},
          "execution_count": 137
        },
        {
          "output_type": "display_data",
          "data": {
            "text/plain": [
              "<Figure size 432x432 with 1 Axes>"
            ],
            "image/png": "[encoded data removed]"
          },
          "metadata": {
            "needs_background": "light"
          }
        }
      ]
    },
    {
      "cell_type": "code",
      "source": [
        "sales.plot(kind='scatter', x='Customer_Age', y='Country', figsize=(6,6))"
      ],
      "metadata": {
        "colab": {
          "base_uri": "https://localhost:8080/",
          "height": 406
        },
        "id": "8GDg6uQncN2M",
        "outputId": "92140c1a-7acd-4978-c794-143bd5bc19fb"
      },
      "execution_count": null,
      "outputs": [
        {
          "output_type": "execute_result",
          "data": {
            "text/plain": [
              "<matplotlib.axes._subplots.AxesSubplot at 0x7ffa7f1915d0>"
            ]
          },
          "metadata": {},
          "execution_count": 138
        },
        {
          "output_type": "display_data",
          "data": {
            "text/plain": [
              "<Figure size 432x432 with 1 Axes>"
            ],
            "image/png": "[encoded data removed]"
          },
          "metadata": {
            "needs_background": "light"
          }
        }
      ]
    },
    {
      "cell_type": "code",
      "source": [
        "import string"
      ],
      "metadata": {
        "id": "vz5Cvmk9eHND"
      },
      "execution_count": null,
      "outputs": []
    },
    {
      "cell_type": "code",
      "source": [
        "#Lambda function in the form of x.apply(lambda x: ....)\n",
        "sales['Calculated_Date'] = sales[['Year', 'Month', 'Day']].apply(lambda x: '{}-{}-{}'.format(x[0], x[1], x[2]), axis=1)"
      ],
      "metadata": {
        "id": "oSYvg288d7sU"
      },
      "execution_count": null,
      "outputs": []
    },
    {
      "cell_type": "code",
      "source": [
        "for i in range (sales.shape[0]):\n",
        "  sales['Calculated_Date'][i]='{}-{}-{}'.format(sales['Year'][i],sales['Month'][i],sales['Day'][i])"
      ],
      "metadata": {
        "colab": {
          "base_uri": "https://localhost:8080/"
        },
        "id": "ebB4HYhBevWa",
        "outputId": "a603e75d-d4a5-4123-ef58-a1ab8f6463ce"
      },
      "execution_count": null,
      "outputs": [
        {
          "output_type": "stream",
          "name": "stderr",
          "text": [
            "/usr/local/lib/python3.7/dist-packages/ipykernel_launcher.py:2: SettingWithCopyWarning: \n",
            "A value is trying to be set on a copy of a slice from a DataFrame\n",
            "\n",
            "See the caveats in the documentation: https://pandas.pydata.org/pandas-docs/stable/user_guide/indexing.html#returning-a-view-versus-a-copy\n",
            "  \n"
          ]
        }
      ]
    },
    {
      "cell_type": "code",
      "source": [
        "sales['Calculated_Date']"
      ],
      "metadata": {
        "colab": {
          "base_uri": "https://localhost:8080/"
        },
        "id": "pvBUSg1zfkD4",
        "outputId": "c8d76a48-e831-425d-b56a-56eec2d9b214"
      },
      "execution_count": null,
      "outputs": [
        {
          "output_type": "execute_result",
          "data": {
            "text/plain": [
              "0         2013-November-26\n",
              "1         2015-November-26\n",
              "2            2014-March-23\n",
              "3            2016-March-23\n",
              "4              2014-May-15\n",
              "                ...       \n",
              "113031       2016-April-12\n",
              "113032        2014-April-2\n",
              "113033        2016-April-2\n",
              "113034        2014-March-4\n",
              "113035        2016-March-4\n",
              "Name: Calculated_Date, Length: 113036, dtype: object"
            ]
          },
          "metadata": {},
          "execution_count": 142
        }
      ]
    },
    {
      "cell_type": "code",
      "source": [
        "#How did sales evolve through the years?\n",
        "#Show a line plot using Calculated_Date column as the x-axis and the count of sales as the y-axis.\n",
        "sales['Calculated_Date'].value_counts().plot(kind='line', figsize=(14,8))"
      ],
      "metadata": {
        "colab": {
          "base_uri": "https://localhost:8080/",
          "height": 501
        },
        "id": "B_J2wkhBijvG",
        "outputId": "f378bea7-06d4-45bd-b945-c07df3997fde"
      },
      "execution_count": null,
      "outputs": [
        {
          "output_type": "execute_result",
          "data": {
            "text/plain": [
              "<matplotlib.axes._subplots.AxesSubplot at 0x7ffa7dddcbd0>"
            ]
          },
          "metadata": {},
          "execution_count": 143
        },
        {
          "output_type": "display_data",
          "data": {
            "text/plain": [
              "<Figure size 1008x576 with 1 Axes>"
            ],
            "image/png": "[encoded data removed]"
          },
          "metadata": {
            "needs_background": "light"
          }
        }
      ]
    },
    {
      "cell_type": "code",
      "source": [
        "sales['Calculated_Date'].value_counts()"
      ],
      "metadata": {
        "colab": {
          "base_uri": "https://localhost:8080/"
        },
        "id": "ohMEGGHcmoaF",
        "outputId": "930dd9a6-bb5e-4db8-e4b3-600f7c7f99af"
      },
      "execution_count": null,
      "outputs": [
        {
          "output_type": "execute_result",
          "data": {
            "text/plain": [
              "2016-March-1        288\n",
              "2014-March-1        288\n",
              "2013-December-7     241\n",
              "2015-December-7     241\n",
              "2016-June-14        236\n",
              "                   ... \n",
              "2011-February-21      1\n",
              "2012-February-21      1\n",
              "2012-May-29           1\n",
              "2011-May-29           1\n",
              "2012-November-4       1\n",
              "Name: Calculated_Date, Length: 1884, dtype: int64"
            ]
          },
          "metadata": {},
          "execution_count": 144
        }
      ]
    },
    {
      "cell_type": "markdown",
      "source": [
        "Increase 50 U$S revenue to every sale"
      ],
      "metadata": {
        "id": "-hbRybvToCwA"
      }
    },
    {
      "cell_type": "code",
      "source": [
        "sales['Revenue']+=50"
      ],
      "metadata": {
        "id": "rzJPD5Den0W8"
      },
      "execution_count": null,
      "outputs": []
    },
    {
      "cell_type": "code",
      "source": [
        "print(sales['Revenue'])"
      ],
      "metadata": {
        "colab": {
          "base_uri": "https://localhost:8080/"
        },
        "id": "R_cAa4InoMVh",
        "outputId": "35965d45-d20b-4218-acb4-a31f5e5fb179"
      },
      "execution_count": null,
      "outputs": [
        {
          "output_type": "stream",
          "name": "stdout",
          "text": [
            "0         1000\n",
            "1         1000\n",
            "2         2451\n",
            "3         2138\n",
            "4          468\n",
            "          ... \n",
            "113031     234\n",
            "113032    1233\n",
            "113033    1233\n",
            "113034    1310\n",
            "113035    1257\n",
            "Name: Revenue, Length: 113036, dtype: int64\n"
          ]
        }
      ]
    },
    {
      "cell_type": "markdown",
      "source": [
        "How many orders were made in Canada or France?"
      ],
      "metadata": {
        "id": "EouFg1zQoZNG"
      }
    },
    {
      "cell_type": "code",
      "source": [
        "(sales['Country']=='Canada').count()"
      ],
      "metadata": {
        "colab": {
          "base_uri": "https://localhost:8080/"
        },
        "id": "jAWxwL_Qr4Yt",
        "outputId": "ff26f4b7-d3c0-453b-fa43-cd2178a8c2a5"
      },
      "execution_count": null,
      "outputs": [
        {
          "output_type": "execute_result",
          "data": {
            "text/plain": [
              "113036"
            ]
          },
          "metadata": {},
          "execution_count": 160
        }
      ]
    },
    {
      "cell_type": "code",
      "source": [
        "sales['Country'].value_counts()['France'] + sales['Country'].value_counts()['Canada']"
      ],
      "metadata": {
        "colab": {
          "base_uri": "https://localhost:8080/"
        },
        "id": "T_QPvDbwoRJZ",
        "outputId": "147126b3-8b79-417f-a22d-ab2dd1638bc8"
      },
      "execution_count": null,
      "outputs": [
        {
          "output_type": "execute_result",
          "data": {
            "text/plain": [
              "25176"
            ]
          },
          "metadata": {},
          "execution_count": 164
        }
      ]
    },
    {
      "cell_type": "code",
      "source": [
        "((sales['Country']=='Canada') & (sales['Sub_Category']=='Bike Racks')).value_counts()"
      ],
      "metadata": {
        "colab": {
          "base_uri": "https://localhost:8080/"
        },
        "id": "O709KE9rpKKA",
        "outputId": "cc20f97d-9e8a-424e-c4f7-27375b0ff69d"
      },
      "execution_count": null,
      "outputs": [
        {
          "output_type": "execute_result",
          "data": {
            "text/plain": [
              "False    112932\n",
              "True        104\n",
              "dtype: int64"
            ]
          },
          "metadata": {},
          "execution_count": 166
        }
      ]
    },
    {
      "cell_type": "markdown",
      "source": [
        "How many orders were made in each region (state) of France?"
      ],
      "metadata": {
        "id": "UMTlcDUQs-us"
      }
    },
    {
      "cell_type": "code",
      "source": [
        "a=sales[sales['Country']=='France']\n"
      ],
      "metadata": {
        "id": "So02tZvasDlx"
      },
      "execution_count": null,
      "outputs": []
    },
    {
      "cell_type": "code",
      "source": [
        "a['State'].value_counts()"
      ],
      "metadata": {
        "colab": {
          "base_uri": "https://localhost:8080/"
        },
        "id": "IF6bjnHqvQPo",
        "outputId": "cdc73f44-16d1-4d3c-b9cc-d7977bb53bf8"
      },
      "execution_count": null,
      "outputs": [
        {
          "output_type": "execute_result",
          "data": {
            "text/plain": [
              "Seine (Paris)        2328\n",
              "Seine Saint Denis    1684\n",
              "Nord                 1670\n",
              "Hauts de Seine       1084\n",
              "Essonne               994\n",
              "Yveline               954\n",
              "Seine et Marne        394\n",
              "Moselle               386\n",
              "Loiret                382\n",
              "Val d'Oise            264\n",
              "Garonne (Haute)       208\n",
              "Val de Marne          158\n",
              "Charente-Maritime     148\n",
              "Somme                 134\n",
              "Loir et Cher          120\n",
              "Pas de Calais          90\n",
              "Name: State, dtype: int64"
            ]
          },
          "metadata": {},
          "execution_count": 177
        }
      ]
    },
    {
      "cell_type": "code",
      "source": [
        "a['State'].value_counts().plot(kind='bar', figsize=(6,6))"
      ],
      "metadata": {
        "colab": {
          "base_uri": "https://localhost:8080/",
          "height": 475
        },
        "id": "3giG-Fz8v5Ak",
        "outputId": "1867cba3-186a-4e00-d7a4-0b6950fdc2b8"
      },
      "execution_count": null,
      "outputs": [
        {
          "output_type": "execute_result",
          "data": {
            "text/plain": [
              "<matplotlib.axes._subplots.AxesSubplot at 0x7ffa7d721050>"
            ]
          },
          "metadata": {},
          "execution_count": 178
        },
        {
          "output_type": "display_data",
          "data": {
            "text/plain": [
              "<Figure size 432x432 with 1 Axes>"
            ],
            "image/png": "[encoded data removed]"
          },
          "metadata": {
            "needs_background": "light"
          }
        }
      ]
    },
    {
      "cell_type": "code",
      "source": [
        "#How many sales were made per category?"
      ],
      "metadata": {
        "id": "xiU9J9vswc4V"
      },
      "execution_count": null,
      "outputs": []
    },
    {
      "cell_type": "code",
      "source": [
        "sales['Product_Category'].value_counts()"
      ],
      "metadata": {
        "colab": {
          "base_uri": "https://localhost:8080/"
        },
        "id": "loudT3u8wii_",
        "outputId": "f412e59a-9e16-4915-af72-15fa7edc3794"
      },
      "execution_count": null,
      "outputs": [
        {
          "output_type": "execute_result",
          "data": {
            "text/plain": [
              "Accessories    70120\n",
              "Bikes          25982\n",
              "Clothing       16934\n",
              "Name: Product_Category, dtype: int64"
            ]
          },
          "metadata": {},
          "execution_count": 182
        }
      ]
    },
    {
      "cell_type": "code",
      "source": [
        "sales['Product_Category'].value_counts().plot(kind='pie', figsize=(6,6))"
      ],
      "metadata": {
        "colab": {
          "base_uri": "https://localhost:8080/",
          "height": 374
        },
        "id": "iVjgRekUwtPy",
        "outputId": "6f8097a4-16d1-4dfd-af4a-439e39c0ffc4"
      },
      "execution_count": null,
      "outputs": [
        {
          "output_type": "execute_result",
          "data": {
            "text/plain": [
              "<matplotlib.axes._subplots.AxesSubplot at 0x7ffa7de85e90>"
            ]
          },
          "metadata": {},
          "execution_count": 183
        },
        {
          "output_type": "display_data",
          "data": {
            "text/plain": [
              "<Figure size 432x432 with 1 Axes>"
            ],
            "image/png": "[encoded data removed]"
          },
          "metadata": {}
        }
      ]
    },
    {
      "cell_type": "markdown",
      "source": [
        "How many orders were made per accessory sub-categories?\n",
        "-"
      ],
      "metadata": {
        "id": "zKj_P8LexDBR"
      }
    },
    {
      "cell_type": "code",
      "source": [
        "b=sales[sales['Product_Category']=='Accessories']"
      ],
      "metadata": {
        "id": "2WvL4Xexw91y"
      },
      "execution_count": null,
      "outputs": []
    },
    {
      "cell_type": "code",
      "source": [
        "b['Sub_Category'].value_counts()"
      ],
      "metadata": {
        "colab": {
          "base_uri": "https://localhost:8080/"
        },
        "id": "8zO90lKuznNl",
        "outputId": "fbf73fc5-9f56-4242-e576-f8029dc06153"
      },
      "execution_count": null,
      "outputs": [
        {
          "output_type": "execute_result",
          "data": {
            "text/plain": [
              "Tires and Tubes      33870\n",
              "Bottles and Cages    15876\n",
              "Helmets              12158\n",
              "Fenders               4032\n",
              "Cleaners              1802\n",
              "Hydration Packs       1334\n",
              "Bike Racks             592\n",
              "Bike Stands            456\n",
              "Name: Sub_Category, dtype: int64"
            ]
          },
          "metadata": {},
          "execution_count": 205
        }
      ]
    },
    {
      "cell_type": "code",
      "source": [
        "c=sales[sales['Product_Category']=='Bikes']\n",
        "c['Sub_Category'].value_counts()"
      ],
      "metadata": {
        "colab": {
          "base_uri": "https://localhost:8080/"
        },
        "id": "wdPKoxvW0lVV",
        "outputId": "95013c0d-7982-4ee5-a3f5-f89f1708a898"
      },
      "execution_count": null,
      "outputs": [
        {
          "output_type": "execute_result",
          "data": {
            "text/plain": [
              "Road Bikes        13430\n",
              "Mountain Bikes     8854\n",
              "Touring Bikes      3698\n",
              "Name: Sub_Category, dtype: int64"
            ]
          },
          "metadata": {},
          "execution_count": 207
        }
      ]
    },
    {
      "cell_type": "markdown",
      "source": [
        "Which gender has the most amount of sales?"
      ],
      "metadata": {
        "id": "cbChQsiY0-Rf"
      }
    },
    {
      "cell_type": "code",
      "source": [
        "sales['Customer_Gender'].value_counts()"
      ],
      "metadata": {
        "colab": {
          "base_uri": "https://localhost:8080/"
        },
        "id": "83MHh9Yx2wXD",
        "outputId": "1ee29dcb-ef08-4de9-dc12-efb0aec7f850"
      },
      "execution_count": null,
      "outputs": [
        {
          "output_type": "execute_result",
          "data": {
            "text/plain": [
              "M    58312\n",
              "F    54724\n",
              "Name: Customer_Gender, dtype: int64"
            ]
          },
          "metadata": {},
          "execution_count": 212
        }
      ]
    },
    {
      "cell_type": "code",
      "source": [
        "print(np.max(sales['Customer_Gender'].value_counts()))"
      ],
      "metadata": {
        "colab": {
          "base_uri": "https://localhost:8080/"
        },
        "id": "cRhZuq3i06tn",
        "outputId": "7bdf16e8-8b2b-40ca-e568-d6781fa3c32c"
      },
      "execution_count": null,
      "outputs": [
        {
          "output_type": "stream",
          "name": "stdout",
          "text": [
            "58312\n"
          ]
        }
      ]
    },
    {
      "cell_type": "markdown",
      "source": [
        "How many sales with more than 500 in Revenue were made by men?"
      ],
      "metadata": {
        "id": "h80CJxDC3KEQ"
      }
    },
    {
      "cell_type": "code",
      "source": [
        "sales[(sales['Customer_Gender']=='M') & (sales['Revenue']>500)].shape[0]"
      ],
      "metadata": {
        "colab": {
          "base_uri": "https://localhost:8080/"
        },
        "id": "mR4leGuS2SsR",
        "outputId": "a23c745f-0b42-4928-d9df-0a1e2140efd6"
      },
      "execution_count": null,
      "outputs": [
        {
          "output_type": "execute_result",
          "data": {
            "text/plain": [
              "23342"
            ]
          },
          "metadata": {},
          "execution_count": 218
        }
      ]
    },
    {
      "cell_type": "code",
      "source": [
        "sales.loc[(sales['Customer_Gender'] == 'M') & (sales['Revenue'] > 500)].shape[0]\n"
      ],
      "metadata": {
        "colab": {
          "base_uri": "https://localhost:8080/"
        },
        "id": "XtR1T5d43ffh",
        "outputId": "a7697957-84c0-4ee4-c18d-882759a211eb"
      },
      "execution_count": null,
      "outputs": [
        {
          "output_type": "execute_result",
          "data": {
            "text/plain": [
              "23342"
            ]
          },
          "metadata": {},
          "execution_count": 220
        }
      ]
    },
    {
      "cell_type": "markdown",
      "source": [
        "Get the top-5 sales with the highest revenue"
      ],
      "metadata": {
        "id": "AwRn-tVQ4VTB"
      }
    },
    {
      "cell_type": "code",
      "source": [
        "sales.sort_values(['Revenue'],ascending=False).head(5)\n"
      ],
      "metadata": {
        "colab": {
          "base_uri": "https://localhost:8080/",
          "height": 478
        },
        "id": "KG7kwNDA4G77",
        "outputId": "c881a41b-86cf-4507-b00b-29ef68f93dfb"
      },
      "execution_count": null,
      "outputs": [
        {
          "output_type": "execute_result",
          "data": {
            "text/plain": [
              "             Date  Day      Month  Year  Customer_Age       Age_Group  \\\n",
              "112073 2015-07-24   24       July  2015            52  Adults (35-64)   \n",
              "112072 2013-07-24   24       July  2013            52  Adults (35-64)   \n",
              "71129  2011-07-08    8       July  2011            22     Youth (<25)   \n",
              "70307  2011-04-30   30      April  2011            44  Adults (35-64)   \n",
              "70601  2011-09-30   30  September  2011            19     Youth (<25)   \n",
              "\n",
              "       Customer_Gender    Country             State Product_Category  \\\n",
              "112073               M  Australia        Queensland         Clothing   \n",
              "112072               M  Australia        Queensland         Clothing   \n",
              "71129                M     Canada           Alberta            Bikes   \n",
              "70307                M     Canada  British Columbia            Bikes   \n",
              "70601                F     Canada  British Columbia            Bikes   \n",
              "\n",
              "       Sub_Category                  Product  Order_Quantity  Unit_Cost  \\\n",
              "112073        Vests  Touring-1000 Yellow, 50              29       1482   \n",
              "112072        Vests  Touring-1000 Yellow, 50              27       1482   \n",
              "71129    Road Bikes         Road-150 Red, 48               4       2171   \n",
              "70307    Road Bikes         Road-150 Red, 62               4       2171   \n",
              "70601    Road Bikes         Road-150 Red, 62               4       2171   \n",
              "\n",
              "        Unit_Price  Profit   Cost  Revenue    Calculated_Date  \n",
              "112073        2384   15096  42978    58124       2015-July-24  \n",
              "112072        2384   14055  40014    54119       2013-July-24  \n",
              "71129         3578    5628   8684    14362        2011-July-8  \n",
              "70307         3578    5485   8684    14219      2011-April-30  \n",
              "70601         3578    5485   8684    14219  2011-September-30  "
            ],
            "text/html": [
              "\n",
              "  <div id=\"df-8b76b1d9-b4a5-4959-8829-94970dd3c520\">\n",
              "    <div class=\"colab-df-container\">\n",
              "      <div>\n",
              "<style scoped>\n",
              "    .dataframe tbody tr th:only-of-type {\n",
              "        vertical-align: middle;\n",
              "    }\n",
              "\n",
              "    .dataframe tbody tr th {\n",
              "        vertical-align: top;\n",
              "    }\n",
              "\n",
              "    .dataframe thead th {\n",
              "        text-align: right;\n",
              "    }\n",
              "</style>\n",
              "<table border=\"1\" class=\"dataframe\">\n",
              "  <thead>\n",
              "    <tr style=\"text-align: right;\">\n",
              "      <th></th>\n",
              "      <th>Date</th>\n",
              "      <th>Day</th>\n",
              "      <th>Month</th>\n",
              "      <th>Year</th>\n",
              "      <th>Customer_Age</th>\n",
              "      <th>Age_Group</th>\n",
              "      <th>Customer_Gender</th>\n",
              "      <th>Country</th>\n",
              "      <th>State</th>\n",
              "      <th>Product_Category</th>\n",
              "      <th>Sub_Category</th>\n",
              "      <th>Product</th>\n",
              "      <th>Order_Quantity</th>\n",
              "      <th>Unit_Cost</th>\n",
              "      <th>Unit_Price</th>\n",
              "      <th>Profit</th>\n",
              "      <th>Cost</th>\n",
              "      <th>Revenue</th>\n",
              "      <th>Calculated_Date</th>\n",
              "    </tr>\n",
              "  </thead>\n",
              "  <tbody>\n",
              "    <tr>\n",
              "      <th>112073</th>\n",
              "      <td>2015-07-24</td>\n",
              "      <td>24</td>\n",
              "      <td>July</td>\n",
              "      <td>2015</td>\n",
              "      <td>52</td>\n",
              "      <td>Adults (35-64)</td>\n",
              "      <td>M</td>\n",
              "      <td>Australia</td>\n",
              "      <td>Queensland</td>\n",
              "      <td>Clothing</td>\n",
              "      <td>Vests</td>\n",
              "      <td>Touring-1000 Yellow, 50</td>\n",
              "      <td>29</td>\n",
              "      <td>1482</td>\n",
              "      <td>2384</td>\n",
              "      <td>15096</td>\n",
              "      <td>42978</td>\n",
              "      <td>58124</td>\n",
              "      <td>2015-July-24</td>\n",
              "    </tr>\n",
              "    <tr>\n",
              "      <th>112072</th>\n",
              "      <td>2013-07-24</td>\n",
              "      <td>24</td>\n",
              "      <td>July</td>\n",
              "      <td>2013</td>\n",
              "      <td>52</td>\n",
              "      <td>Adults (35-64)</td>\n",
              "      <td>M</td>\n",
              "      <td>Australia</td>\n",
              "      <td>Queensland</td>\n",
              "      <td>Clothing</td>\n",
              "      <td>Vests</td>\n",
              "      <td>Touring-1000 Yellow, 50</td>\n",
              "      <td>27</td>\n",
              "      <td>1482</td>\n",
              "      <td>2384</td>\n",
              "      <td>14055</td>\n",
              "      <td>40014</td>\n",
              "      <td>54119</td>\n",
              "      <td>2013-July-24</td>\n",
              "    </tr>\n",
              "    <tr>\n",
              "      <th>71129</th>\n",
              "      <td>2011-07-08</td>\n",
              "      <td>8</td>\n",
              "      <td>July</td>\n",
              "      <td>2011</td>\n",
              "      <td>22</td>\n",
              "      <td>Youth (&lt;25)</td>\n",
              "      <td>M</td>\n",
              "      <td>Canada</td>\n",
              "      <td>Alberta</td>\n",
              "      <td>Bikes</td>\n",
              "      <td>Road Bikes</td>\n",
              "      <td>Road-150 Red, 48</td>\n",
              "      <td>4</td>\n",
              "      <td>2171</td>\n",
              "      <td>3578</td>\n",
              "      <td>5628</td>\n",
              "      <td>8684</td>\n",
              "      <td>14362</td>\n",
              "      <td>2011-July-8</td>\n",
              "    </tr>\n",
              "    <tr>\n",
              "      <th>70307</th>\n",
              "      <td>2011-04-30</td>\n",
              "      <td>30</td>\n",
              "      <td>April</td>\n",
              "      <td>2011</td>\n",
              "      <td>44</td>\n",
              "      <td>Adults (35-64)</td>\n",
              "      <td>M</td>\n",
              "      <td>Canada</td>\n",
              "      <td>British Columbia</td>\n",
              "      <td>Bikes</td>\n",
              "      <td>Road Bikes</td>\n",
              "      <td>Road-150 Red, 62</td>\n",
              "      <td>4</td>\n",
              "      <td>2171</td>\n",
              "      <td>3578</td>\n",
              "      <td>5485</td>\n",
              "      <td>8684</td>\n",
              "      <td>14219</td>\n",
              "      <td>2011-April-30</td>\n",
              "    </tr>\n",
              "    <tr>\n",
              "      <th>70601</th>\n",
              "      <td>2011-09-30</td>\n",
              "      <td>30</td>\n",
              "      <td>September</td>\n",
              "      <td>2011</td>\n",
              "      <td>19</td>\n",
              "      <td>Youth (&lt;25)</td>\n",
              "      <td>F</td>\n",
              "      <td>Canada</td>\n",
              "      <td>British Columbia</td>\n",
              "      <td>Bikes</td>\n",
              "      <td>Road Bikes</td>\n",
              "      <td>Road-150 Red, 62</td>\n",
              "      <td>4</td>\n",
              "      <td>2171</td>\n",
              "      <td>3578</td>\n",
              "      <td>5485</td>\n",
              "      <td>8684</td>\n",
              "      <td>14219</td>\n",
              "      <td>2011-September-30</td>\n",
              "    </tr>\n",
              "  </tbody>\n",
              "</table>\n",
              "</div>\n",
              "      <button class=\"colab-df-convert\" onclick=\"convertToInteractive('df-8b76b1d9-b4a5-4959-8829-94970dd3c520')\"\n",
              "              title=\"Convert this dataframe to an interactive table.\"\n",
              "              style=\"display:none;\">\n",
              "        \n",
              "  <svg xmlns=\"http://www.w3.org/2000/svg\" height=\"24px\"viewBox=\"0 0 24 24\"\n",
              "       width=\"24px\">\n",
              "    <path d=\"M0 0h24v24H0V0z\" fill=\"none\"/>\n",
              "    <path d=\"M18.56 5.44l.94 2.06.94-2.06 2.06-.94-2.06-.94-.94-2.06-.94 2.06-2.06.94zm-11 1L8.5 8.5l.94-2.06 2.06-.94-2.06-.94L8.5 2.5l-.94 2.06-2.06.94zm10 10l.94 2.06.94-2.06 2.06-.94-2.06-.94-.94-2.06-.94 2.06-2.06.94z\"/><path d=\"M17.41 7.96l-1.37-1.37c-.4-.4-.92-.59-1.43-.59-.52 0-1.04.2-1.43.59L10.3 9.45l-7.72 7.72c-.78.78-.78 2.05 0 2.83L4 21.41c.39.39.9.59 1.41.59.51 0 1.02-.2 1.41-.59l7.78-7.78 2.81-2.81c.8-.78.8-2.07 0-2.86zM5.41 20L4 18.59l7.72-7.72 1.47 1.35L5.41 20z\"/>\n",
              "  </svg>\n",
              "      </button>\n",
              "      \n",
              "  <style>\n",
              "    .colab-df-container {\n",
              "      display:flex;\n",
              "      flex-wrap:wrap;\n",
              "      gap: 12px;\n",
              "    }\n",
              "\n",
              "    .colab-df-convert {\n",
              "      background-color: #E8F0FE;\n",
              "      border: none;\n",
              "      border-radius: 50%;\n",
              "      cursor: pointer;\n",
              "      display: none;\n",
              "      fill: #1967D2;\n",
              "      height: 32px;\n",
              "      padding: 0 0 0 0;\n",
              "      width: 32px;\n",
              "    }\n",
              "\n",
              "    .colab-df-convert:hover {\n",
              "      background-color: #E2EBFA;\n",
              "      box-shadow: 0px 1px 2px rgba(60, 64, 67, 0.3), 0px 1px 3px 1px rgba(60, 64, 67, 0.15);\n",
              "      fill: #174EA6;\n",
              "    }\n",
              "\n",
              "    [theme=dark] .colab-df-convert {\n",
              "      background-color: #3B4455;\n",
              "      fill: #D2E3FC;\n",
              "    }\n",
              "\n",
              "    [theme=dark] .colab-df-convert:hover {\n",
              "      background-color: #434B5C;\n",
              "      box-shadow: 0px 1px 3px 1px rgba(0, 0, 0, 0.15);\n",
              "      filter: drop-shadow(0px 1px 2px rgba(0, 0, 0, 0.3));\n",
              "      fill: #FFFFFF;\n",
              "    }\n",
              "  </style>\n",
              "\n",
              "      <script>\n",
              "        const buttonEl =\n",
              "          document.querySelector('#df-8b76b1d9-b4a5-4959-8829-94970dd3c520 button.colab-df-convert');\n",
              "        buttonEl.style.display =\n",
              "          google.colab.kernel.accessAllowed ? 'block' : 'none';\n",
              "\n",
              "        async function convertToInteractive(key) {\n",
              "          const element = document.querySelector('#df-8b76b1d9-b4a5-4959-8829-94970dd3c520');\n",
              "          const dataTable =\n",
              "            await google.colab.kernel.invokeFunction('convertToInteractive',\n",
              "                                                     [key], {});\n",
              "          if (!dataTable) return;\n",
              "\n",
              "          const docLinkHtml = 'Like what you see? Visit the ' +\n",
              "            '<a target=\"_blank\" href=https://colab.research.google.com/notebooks/data_table.ipynb>data table notebook</a>'\n",
              "            + ' to learn more about interactive tables.';\n",
              "          element.innerHTML = '';\n",
              "          dataTable['output_type'] = 'display_data';\n",
              "          await google.colab.output.renderOutput(dataTable, element);\n",
              "          const docLink = document.createElement('div');\n",
              "          docLink.innerHTML = docLinkHtml;\n",
              "          element.appendChild(docLink);\n",
              "        }\n",
              "      </script>\n",
              "    </div>\n",
              "  </div>\n",
              "  "
            ]
          },
          "metadata": {},
          "execution_count": 221
        }
      ]
    },
    {
      "cell_type": "markdown",
      "source": [
        "Get the sale with the highest revenue"
      ],
      "metadata": {
        "id": "wJQxToZi40UH"
      }
    },
    {
      "cell_type": "code",
      "source": [
        "sales.sort_values(['Revenue'],ascending=False).head(1)"
      ],
      "metadata": {
        "colab": {
          "base_uri": "https://localhost:8080/",
          "height": 197
        },
        "id": "jDaYCVzE4ppF",
        "outputId": "c24c82f6-eb60-4f9f-a132-8ab5aa8f5cec"
      },
      "execution_count": null,
      "outputs": [
        {
          "output_type": "execute_result",
          "data": {
            "text/plain": [
              "             Date  Day Month  Year  Customer_Age       Age_Group  \\\n",
              "112073 2015-07-24   24  July  2015            52  Adults (35-64)   \n",
              "\n",
              "       Customer_Gender    Country       State Product_Category Sub_Category  \\\n",
              "112073               M  Australia  Queensland         Clothing        Vests   \n",
              "\n",
              "                        Product  Order_Quantity  Unit_Cost  Unit_Price  \\\n",
              "112073  Touring-1000 Yellow, 50              29       1482        2384   \n",
              "\n",
              "        Profit   Cost  Revenue Calculated_Date  \n",
              "112073   15096  42978    58124    2015-July-24  "
            ],
            "text/html": [
              "\n",
              "  <div id=\"df-364c1492-c7cf-4a01-91fa-0704e00a019b\">\n",
              "    <div class=\"colab-df-container\">\n",
              "      <div>\n",
              "<style scoped>\n",
              "    .dataframe tbody tr th:only-of-type {\n",
              "        vertical-align: middle;\n",
              "    }\n",
              "\n",
              "    .dataframe tbody tr th {\n",
              "        vertical-align: top;\n",
              "    }\n",
              "\n",
              "    .dataframe thead th {\n",
              "        text-align: right;\n",
              "    }\n",
              "</style>\n",
              "<table border=\"1\" class=\"dataframe\">\n",
              "  <thead>\n",
              "    <tr style=\"text-align: right;\">\n",
              "      <th></th>\n",
              "      <th>Date</th>\n",
              "      <th>Day</th>\n",
              "      <th>Month</th>\n",
              "      <th>Year</th>\n",
              "      <th>Customer_Age</th>\n",
              "      <th>Age_Group</th>\n",
              "      <th>Customer_Gender</th>\n",
              "      <th>Country</th>\n",
              "      <th>State</th>\n",
              "      <th>Product_Category</th>\n",
              "      <th>Sub_Category</th>\n",
              "      <th>Product</th>\n",
              "      <th>Order_Quantity</th>\n",
              "      <th>Unit_Cost</th>\n",
              "      <th>Unit_Price</th>\n",
              "      <th>Profit</th>\n",
              "      <th>Cost</th>\n",
              "      <th>Revenue</th>\n",
              "      <th>Calculated_Date</th>\n",
              "    </tr>\n",
              "  </thead>\n",
              "  <tbody>\n",
              "    <tr>\n",
              "      <th>112073</th>\n",
              "      <td>2015-07-24</td>\n",
              "      <td>24</td>\n",
              "      <td>July</td>\n",
              "      <td>2015</td>\n",
              "      <td>52</td>\n",
              "      <td>Adults (35-64)</td>\n",
              "      <td>M</td>\n",
              "      <td>Australia</td>\n",
              "      <td>Queensland</td>\n",
              "      <td>Clothing</td>\n",
              "      <td>Vests</td>\n",
              "      <td>Touring-1000 Yellow, 50</td>\n",
              "      <td>29</td>\n",
              "      <td>1482</td>\n",
              "      <td>2384</td>\n",
              "      <td>15096</td>\n",
              "      <td>42978</td>\n",
              "      <td>58124</td>\n",
              "      <td>2015-July-24</td>\n",
              "    </tr>\n",
              "  </tbody>\n",
              "</table>\n",
              "</div>\n",
              "      <button class=\"colab-df-convert\" onclick=\"convertToInteractive('df-364c1492-c7cf-4a01-91fa-0704e00a019b')\"\n",
              "              title=\"Convert this dataframe to an interactive table.\"\n",
              "              style=\"display:none;\">\n",
              "        \n",
              "  <svg xmlns=\"http://www.w3.org/2000/svg\" height=\"24px\"viewBox=\"0 0 24 24\"\n",
              "       width=\"24px\">\n",
              "    <path d=\"M0 0h24v24H0V0z\" fill=\"none\"/>\n",
              "    <path d=\"M18.56 5.44l.94 2.06.94-2.06 2.06-.94-2.06-.94-.94-2.06-.94 2.06-2.06.94zm-11 1L8.5 8.5l.94-2.06 2.06-.94-2.06-.94L8.5 2.5l-.94 2.06-2.06.94zm10 10l.94 2.06.94-2.06 2.06-.94-2.06-.94-.94-2.06-.94 2.06-2.06.94z\"/><path d=\"M17.41 7.96l-1.37-1.37c-.4-.4-.92-.59-1.43-.59-.52 0-1.04.2-1.43.59L10.3 9.45l-7.72 7.72c-.78.78-.78 2.05 0 2.83L4 21.41c.39.39.9.59 1.41.59.51 0 1.02-.2 1.41-.59l7.78-7.78 2.81-2.81c.8-.78.8-2.07 0-2.86zM5.41 20L4 18.59l7.72-7.72 1.47 1.35L5.41 20z\"/>\n",
              "  </svg>\n",
              "      </button>\n",
              "      \n",
              "  <style>\n",
              "    .colab-df-container {\n",
              "      display:flex;\n",
              "      flex-wrap:wrap;\n",
              "      gap: 12px;\n",
              "    }\n",
              "\n",
              "    .colab-df-convert {\n",
              "      background-color: #E8F0FE;\n",
              "      border: none;\n",
              "      border-radius: 50%;\n",
              "      cursor: pointer;\n",
              "      display: none;\n",
              "      fill: #1967D2;\n",
              "      height: 32px;\n",
              "      padding: 0 0 0 0;\n",
              "      width: 32px;\n",
              "    }\n",
              "\n",
              "    .colab-df-convert:hover {\n",
              "      background-color: #E2EBFA;\n",
              "      box-shadow: 0px 1px 2px rgba(60, 64, 67, 0.3), 0px 1px 3px 1px rgba(60, 64, 67, 0.15);\n",
              "      fill: #174EA6;\n",
              "    }\n",
              "\n",
              "    [theme=dark] .colab-df-convert {\n",
              "      background-color: #3B4455;\n",
              "      fill: #D2E3FC;\n",
              "    }\n",
              "\n",
              "    [theme=dark] .colab-df-convert:hover {\n",
              "      background-color: #434B5C;\n",
              "      box-shadow: 0px 1px 3px 1px rgba(0, 0, 0, 0.15);\n",
              "      filter: drop-shadow(0px 1px 2px rgba(0, 0, 0, 0.3));\n",
              "      fill: #FFFFFF;\n",
              "    }\n",
              "  </style>\n",
              "\n",
              "      <script>\n",
              "        const buttonEl =\n",
              "          document.querySelector('#df-364c1492-c7cf-4a01-91fa-0704e00a019b button.colab-df-convert');\n",
              "        buttonEl.style.display =\n",
              "          google.colab.kernel.accessAllowed ? 'block' : 'none';\n",
              "\n",
              "        async function convertToInteractive(key) {\n",
              "          const element = document.querySelector('#df-364c1492-c7cf-4a01-91fa-0704e00a019b');\n",
              "          const dataTable =\n",
              "            await google.colab.kernel.invokeFunction('convertToInteractive',\n",
              "                                                     [key], {});\n",
              "          if (!dataTable) return;\n",
              "\n",
              "          const docLinkHtml = 'Like what you see? Visit the ' +\n",
              "            '<a target=\"_blank\" href=https://colab.research.google.com/notebooks/data_table.ipynb>data table notebook</a>'\n",
              "            + ' to learn more about interactive tables.';\n",
              "          element.innerHTML = '';\n",
              "          dataTable['output_type'] = 'display_data';\n",
              "          await google.colab.output.renderOutput(dataTable, element);\n",
              "          const docLink = document.createElement('div');\n",
              "          docLink.innerHTML = docLinkHtml;\n",
              "          element.appendChild(docLink);\n",
              "        }\n",
              "      </script>\n",
              "    </div>\n",
              "  </div>\n",
              "  "
            ]
          },
          "metadata": {},
          "execution_count": 222
        }
      ]
    },
    {
      "cell_type": "markdown",
      "source": [
        "What is the mean Order_Quantity of orders with more than 10K in revenue?"
      ],
      "metadata": {
        "id": "umrZc2705Jtn"
      }
    },
    {
      "cell_type": "code",
      "source": [
        "a=np.mean(sales[sales['Revenue']>10000]['Order_Quantity'])"
      ],
      "metadata": {
        "id": "v8qIqzNQ45cV"
      },
      "execution_count": null,
      "outputs": []
    },
    {
      "cell_type": "code",
      "source": [
        "a"
      ],
      "metadata": {
        "colab": {
          "base_uri": "https://localhost:8080/"
        },
        "id": "Chk8Y67v5cKW",
        "outputId": "c2bc9d02-b1b5-49dd-cacf-d3ce93d240bb"
      },
      "execution_count": null,
      "outputs": [
        {
          "output_type": "execute_result",
          "data": {
            "text/plain": [
              "3.689265536723164"
            ]
          },
          "metadata": {},
          "execution_count": 227
        }
      ]
    },
    {
      "cell_type": "markdown",
      "source": [
        "What is the mean Order_Quantity of orders with less than 10K in revenue?\n"
      ],
      "metadata": {
        "id": "QASuDa_W5xhH"
      }
    },
    {
      "cell_type": "code",
      "source": [
        "a=np.mean(sales[sales['Revenue']<10000]['Order_Quantity'])"
      ],
      "metadata": {
        "id": "ldK8i9f95uR2"
      },
      "execution_count": null,
      "outputs": []
    },
    {
      "cell_type": "code",
      "source": [
        "a"
      ],
      "metadata": {
        "colab": {
          "base_uri": "https://localhost:8080/"
        },
        "id": "bhXsd4j352qt",
        "outputId": "172207bd-42cd-4c78-c9c4-5e8c37a6fc3b"
      },
      "execution_count": null,
      "outputs": [
        {
          "output_type": "execute_result",
          "data": {
            "text/plain": [
              "11.914539380997528"
            ]
          },
          "metadata": {},
          "execution_count": 230
        }
      ]
    },
    {
      "cell_type": "markdown",
      "source": [
        "How many orders were made in May of 2016?\n"
      ],
      "metadata": {
        "id": "kXHSrEAP5616"
      }
    },
    {
      "cell_type": "code",
      "source": [
        "sales.loc[(sales['Month']=='May')&(sales['Year']==2016)].shape[0]"
      ],
      "metadata": {
        "colab": {
          "base_uri": "https://localhost:8080/"
        },
        "id": "gsv89q6b53ht",
        "outputId": "b93c8f23-0a51-41c3-bde8-3ae52de25edb"
      },
      "execution_count": null,
      "outputs": [
        {
          "output_type": "execute_result",
          "data": {
            "text/plain": [
              "5015"
            ]
          },
          "metadata": {},
          "execution_count": 233
        }
      ]
    },
    {
      "cell_type": "markdown",
      "source": [
        "How many orders were made between May and July of 2016?\n"
      ],
      "metadata": {
        "id": "dsayDEJ86s8j"
      }
    },
    {
      "cell_type": "code",
      "source": [
        "sales.loc[((sales['Month']=='May')|(sales['Month']=='June')|(sales['Month']=='July'))&(sales['Year']==2016)].shape[0]"
      ],
      "metadata": {
        "colab": {
          "base_uri": "https://localhost:8080/"
        },
        "id": "ZR9pkE3E6n4Y",
        "outputId": "d7345b04-50d9-40a2-965a-a4c7ecb2d90e"
      },
      "execution_count": null,
      "outputs": [
        {
          "output_type": "execute_result",
          "data": {
            "text/plain": [
              "12164"
            ]
          },
          "metadata": {},
          "execution_count": 238
        }
      ]
    },
    {
      "cell_type": "code",
      "source": [
        "sales.loc[sales['Month'].isin(['May', 'June', 'July'])&(sales['Year']==2016)].shape[0]"
      ],
      "metadata": {
        "colab": {
          "base_uri": "https://localhost:8080/"
        },
        "id": "HuyNn6o67TN2",
        "outputId": "4f2d3be7-854a-4bc9-8069-e2a15fd87a7a"
      },
      "execution_count": null,
      "outputs": [
        {
          "output_type": "execute_result",
          "data": {
            "text/plain": [
              "12164"
            ]
          },
          "metadata": {},
          "execution_count": 237
        }
      ]
    },
    {
      "cell_type": "markdown",
      "source": [
        "Add 7.2% TAX on every sale Unit_Price within United States\n"
      ],
      "metadata": {
        "id": "yoMASCHt7nX3"
      }
    },
    {
      "cell_type": "code",
      "source": [
        "sales.loc[sales['Country']=='United States','Unit_Price']*=1.072\n"
      ],
      "metadata": {
        "id": "jXvHNTMl7EfM"
      },
      "execution_count": null,
      "outputs": []
    }
  ]
}